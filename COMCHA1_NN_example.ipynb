{
 "cells": [
  {
   "cell_type": "markdown",
   "metadata": {},
   "source": [
    "# Practice session on Neural Networks\n",
    "### 1st COMCHA School\n",
    "\n",
    "#### Veronica Sanz (University of Sussex, Alan Turing Institute and Valencia )\n",
    "##### held at Universitat Ramon Llull, October 3rd, 2019\n"
   ]
  },
  {
   "cell_type": "markdown",
   "metadata": {},
   "source": [
    "Make sure you have conda and jupyter installed"
   ]
  },
  {
   "cell_type": "code",
   "execution_count": 8,
   "metadata": {},
   "outputs": [
    {
     "name": "stdout",
     "output_type": "stream",
     "text": [
      "Collecting package metadata (current_repodata.json): done\n",
      "Solving environment: done\n",
      "\n",
      "# All requested packages already installed.\n",
      "\n"
     ]
    }
   ],
   "source": [
    "import sys\n",
    "!{sys.executable} -m conda install tensorflow matplotlib ipykernel scikit-learn pandas numpy==1.16.4 --yes\n"
   ]
  },
  {
   "cell_type": "code",
   "execution_count": 10,
   "metadata": {},
   "outputs": [],
   "source": [
    "from matplotlib import pyplot as plt\n",
    "import numpy as np\n",
    "import pandas as pd\n",
    "import tensorflow as tf\n",
    "# bigger fonts\n",
    "plt.rcParams['font.size'] = 18"
   ]
  },
  {
   "cell_type": "code",
   "execution_count": 11,
   "metadata": {},
   "outputs": [
    {
     "data": {
      "text/plain": [
       "[name: \"/device:CPU:0\"\n",
       " device_type: \"CPU\"\n",
       " memory_limit: 268435456\n",
       " locality {\n",
       " }\n",
       " incarnation: 277391378063986750]"
      ]
     },
     "execution_count": 11,
     "metadata": {},
     "output_type": "execute_result"
    }
   ],
   "source": [
    "# check that we have the devices we expect available\n",
    "from tensorflow.python.client import device_lib\n",
    "device_lib.list_local_devices()"
   ]
  },
  {
   "cell_type": "markdown",
   "metadata": {
    "slideshow": {
     "slide_type": "slide"
    }
   },
   "source": [
    "### Import keras bits and pieces from tensorflow"
   ]
  },
  {
   "cell_type": "code",
   "execution_count": 12,
   "metadata": {},
   "outputs": [],
   "source": [
    "# if you have a recent version of tensorflow, keras is included\n",
    "from tensorflow import keras\n",
    "from tensorflow.keras.datasets import mnist\n",
    "from tensorflow.keras.models import Sequential\n",
    "from tensorflow.keras.layers import Dense, Dropout, Conv2D, MaxPooling2D, Flatten\n",
    "from tensorflow.keras.optimizers import RMSprop"
   ]
  },
  {
   "cell_type": "markdown",
   "metadata": {},
   "source": [
    "### Standard dataset: MNIST handwritten digits\n",
    "\n",
    "![MNIST](https://upload.wikimedia.org/wikipedia/commons/2/27/MnistExamples.png \"MNIST\")\n",
    "\n"
   ]
  },
  {
   "cell_type": "code",
   "execution_count": 13,
   "metadata": {
    "slideshow": {
     "slide_type": "fragment"
    }
   },
   "outputs": [],
   "source": [
    "# the data, split between train and test sets\n",
    "(x_train, y_train), (x_valtest, y_valtest) = mnist.load_data()"
   ]
  },
  {
   "cell_type": "code",
   "execution_count": null,
   "metadata": {
    "slideshow": {
     "slide_type": "skip"
    }
   },
   "outputs": [],
   "source": [
    "# demo the effect of noisy data\n",
    "#x_train = (x_train/5 + np.random.poisson(200, size=x_train.shape)).clip(0, 255)\n",
    "#x_valtest = (x_valtest/5 + np.random.poisson(200, size=x_valtest.shape)).clip(0, 255)"
   ]
  },
  {
   "cell_type": "code",
   "execution_count": null,
   "metadata": {
    "slideshow": {
     "slide_type": "fragment"
    }
   },
   "outputs": [],
   "source": [
    "# if we wanted to test our model on limited data,\n",
    "# we could reduce the amount of training data like this...\n",
    "#idx = np.random.choice(len(x_train), size=len(x_train)//100)\n",
    "#x_train = x_train[idx]\n",
    "#y_train = y_train[idx]"
   ]
  },
  {
   "cell_type": "markdown",
   "metadata": {
    "slideshow": {
     "slide_type": "fragment"
    }
   },
   "source": [
    "### Usually, one splits the data between training, test and validation\n",
    "\n",
    "#### Training Dataset: \n",
    "The sample of data used to fit the model\n",
    "#### Validation Dataset: \n",
    "The sample of data used to provide an unbiased evaluation of a model fit, we use this data to fine-tune the model hyperparameters \n",
    "#### Test Dataset:\n",
    "The sample of data used to provide an unbiased evaluation of a final model fit \n",
    "\n",
    "\n",
    "So it is useful to learn how to split the data (using sklearn)\n",
    "\n",
    "![split](https://miro.medium.com/max/1552/1*Nv2NNALuokZEcV6hYEHdGA.png \"split\")"
   ]
  },
  {
   "cell_type": "code",
   "execution_count": 14,
   "metadata": {
    "slideshow": {
     "slide_type": "fragment"
    }
   },
   "outputs": [],
   "source": [
    "from sklearn.model_selection import train_test_split\n",
    "x_test, x_val, y_test, y_val = train_test_split(x_valtest, y_valtest, test_size=0.5)"
   ]
  },
  {
   "cell_type": "code",
   "execution_count": 15,
   "metadata": {
    "slideshow": {
     "slide_type": "fragment"
    }
   },
   "outputs": [
    {
     "data": {
      "text/plain": [
       "((60000, 28, 28), (60000,))"
      ]
     },
     "execution_count": 15,
     "metadata": {},
     "output_type": "execute_result"
    }
   ],
   "source": [
    "x_train.shape, y_train.shape"
   ]
  },
  {
   "cell_type": "code",
   "execution_count": 16,
   "metadata": {
    "slideshow": {
     "slide_type": "fragment"
    }
   },
   "outputs": [
    {
     "data": {
      "text/plain": [
       "((5000, 28, 28), (5000,))"
      ]
     },
     "execution_count": 16,
     "metadata": {},
     "output_type": "execute_result"
    }
   ],
   "source": [
    "x_test.shape, y_test.shape"
   ]
  },
  {
   "cell_type": "code",
   "execution_count": 17,
   "metadata": {
    "slideshow": {
     "slide_type": "fragment"
    }
   },
   "outputs": [
    {
     "data": {
      "text/plain": [
       "((5000, 28, 28), (5000,))"
      ]
     },
     "execution_count": 17,
     "metadata": {},
     "output_type": "execute_result"
    }
   ],
   "source": [
    "x_val.shape, y_val.shape"
   ]
  },
  {
   "cell_type": "markdown",
   "metadata": {
    "slideshow": {
     "slide_type": "slide"
    }
   },
   "source": [
    "### Take a look at the data\n",
    "\n",
    "You should always carefully examine any new dataset\n",
    "This dataset is already curated, but in real-life situations you will spend **a lot of time** trimming and preparing the data"
   ]
  },
  {
   "cell_type": "code",
   "execution_count": 18,
   "metadata": {},
   "outputs": [
    {
     "name": "stdout",
     "output_type": "stream",
     "text": [
      "class = 1\n"
     ]
    },
    {
     "data": {
      "image/png": "[encoded data removed]",
      "text/plain": [
       "<Figure size 432x288 with 1 Axes>"
      ]
     },
     "metadata": {
      "needs_background": "light"
     },
     "output_type": "display_data"
    }
   ],
   "source": [
    "i = 3\n",
    "plt.imshow(x_train[i], cmap='gray')\n",
    "print('class =', y_train[i])\n"
   ]
  },
  {
   "cell_type": "code",
   "execution_count": 19,
   "metadata": {},
   "outputs": [
    {
     "name": "stdout",
     "output_type": "stream",
     "text": [
      "class = 8\n"
     ]
    },
    {
     "data": {
      "image/png": "[encoded data removed]",
      "text/plain": [
       "<Figure size 432x288 with 1 Axes>"
      ]
     },
     "metadata": {
      "needs_background": "light"
     },
     "output_type": "display_data"
    }
   ],
   "source": [
    "i = 4139\n",
    "plt.imshow(x_train[i], cmap='gray')\n",
    "print('class =', y_train[i])"
   ]
  },
  {
   "cell_type": "markdown",
   "metadata": {},
   "source": [
    "### Prepare the data\n",
    "\n",
    "Remember the y variables (outputs) are in classes from 0 to 9, e.g. y in the previous plot is class = 8\n",
    "\n",
    "**One-hot** changes this simple number (class) to a matrix which contains 0 for all the entries except for 8\n",
    "\n",
    "This is simply implemented using keras utilities"
   ]
  },
  {
   "cell_type": "code",
   "execution_count": 20,
   "metadata": {},
   "outputs": [],
   "source": [
    "# convert class vectors to \"one-hot\" class matrices\n",
    "num_classes = 10\n",
    "y_train = keras.utils.to_categorical(y_train, num_classes)\n",
    "y_test = keras.utils.to_categorical(y_test, num_classes)\n",
    "y_val = keras.utils.to_categorical(y_val, num_classes)"
   ]
  },
  {
   "cell_type": "code",
   "execution_count": 21,
   "metadata": {},
   "outputs": [
    {
     "data": {
      "text/plain": [
       "array([0., 0., 0., 0., 0., 0., 0., 0., 1., 0.], dtype=float32)"
      ]
     },
     "execution_count": 21,
     "metadata": {},
     "output_type": "execute_result"
    }
   ],
   "source": [
    "y_train[i]"
   ]
  },
  {
   "cell_type": "markdown",
   "metadata": {},
   "source": [
    "Now the inputs, the images:\n",
    "\n",
    "Take the 28X28 bins of images (=784) with levels of gray 0 to 255 and\n",
    "\n",
    "flatten them in an array and re-scale the content (intensity of gray) from 0 to 1"
   ]
  },
  {
   "cell_type": "code",
   "execution_count": 22,
   "metadata": {},
   "outputs": [],
   "source": [
    "def process_data(x):\n",
    "    x = x.reshape(-1, 784)\n",
    "    x = x.astype('float32')\n",
    "    x /= 255\n",
    "    return x"
   ]
  },
  {
   "cell_type": "code",
   "execution_count": 23,
   "metadata": {},
   "outputs": [],
   "source": [
    "x_train = process_data(x_train)\n",
    "x_test = process_data(x_test)\n",
    "x_val = process_data(x_val)"
   ]
  },
  {
   "cell_type": "code",
   "execution_count": 24,
   "metadata": {},
   "outputs": [
    {
     "name": "stdout",
     "output_type": "stream",
     "text": [
      "60000 train samples\n",
      "5000 test samples\n",
      "5000 validation samples\n"
     ]
    }
   ],
   "source": [
    "print(x_train.shape[0], 'train samples')\n",
    "print(x_test.shape[0], 'test samples')\n",
    "print(x_val.shape[0], 'validation samples')"
   ]
  },
  {
   "cell_type": "code",
   "execution_count": 25,
   "metadata": {},
   "outputs": [
    {
     "data": {
      "text/plain": [
       "[<matplotlib.lines.Line2D at 0x1a4054e4d0>]"
      ]
     },
     "execution_count": 25,
     "metadata": {},
     "output_type": "execute_result"
    },
    {
     "data": {
      "image/png": "[encoded data removed]",
      "text/plain": [
       "<Figure size 432x288 with 1 Axes>"
      ]
     },
     "metadata": {
      "needs_background": "light"
     },
     "output_type": "display_data"
    }
   ],
   "source": [
    "plt.plot(x_train[3])\n"
   ]
  },
  {
   "cell_type": "code",
   "execution_count": 26,
   "metadata": {},
   "outputs": [
    {
     "data": {
      "text/plain": [
       "[<matplotlib.lines.Line2D at 0x1a4da51650>]"
      ]
     },
     "execution_count": 26,
     "metadata": {},
     "output_type": "execute_result"
    },
    {
     "data": {
      "image/png": "[encoded data removed]",
      "text/plain": [
       "<Figure size 432x288 with 1 Axes>"
      ]
     },
     "metadata": {
      "needs_background": "light"
     },
     "output_type": "display_data"
    }
   ],
   "source": [
    "plt.plot(x_train[4139])"
   ]
  },
  {
   "cell_type": "markdown",
   "metadata": {},
   "source": [
    "## Let's start with a simple NN: fully connected NN"
   ]
  },
  {
   "cell_type": "markdown",
   "metadata": {},
   "source": [
    "### Build the NN"
   ]
  },
  {
   "cell_type": "code",
   "execution_count": 27,
   "metadata": {},
   "outputs": [
    {
     "name": "stdout",
     "output_type": "stream",
     "text": [
      "WARNING:tensorflow:From /Users/veronicasanz/anaconda2/lib/python3.7/site-packages/tensorflow/python/ops/init_ops.py:1251: calling VarianceScaling.__init__ (from tensorflow.python.ops.init_ops) with dtype is deprecated and will be removed in a future version.\n",
      "Instructions for updating:\n",
      "Call initializer instance with the dtype argument instead of passing it to the constructor\n"
     ]
    }
   ],
   "source": [
    "# Sequential means you can build a DNN layer by layer\n",
    "fcmodel = Sequential()\n",
    "# Dense has as arguments: \n",
    "#  number of neurons, type of activation function, and the input needs to match the output of the previous layer\n",
    "#  input_shape=(N_features,) where N_features = 28*28\n",
    "fcmodel.add(Dense(32, activation='relu', input_shape=(784,)))\n",
    "# we add a second layer\n",
    "fcmodel.add(Dense(32, activation='relu'))\n",
    "# could include dropout, regularisation, ...\n",
    "fcmodel.add(Dense(num_classes, activation='softmax'))"
   ]
  },
  {
   "cell_type": "code",
   "execution_count": 28,
   "metadata": {},
   "outputs": [
    {
     "name": "stdout",
     "output_type": "stream",
     "text": [
      "Model: \"sequential\"\n",
      "_________________________________________________________________\n",
      "Layer (type)                 Output Shape              Param #   \n",
      "=================================================================\n",
      "dense (Dense)                (None, 32)                25120     \n",
      "_________________________________________________________________\n",
      "dense_1 (Dense)              (None, 32)                1056      \n",
      "_________________________________________________________________\n",
      "dense_2 (Dense)              (None, 10)                330       \n",
      "=================================================================\n",
      "Total params: 26,506\n",
      "Trainable params: 26,506\n",
      "Non-trainable params: 0\n",
      "_________________________________________________________________\n"
     ]
    }
   ],
   "source": [
    "fcmodel.summary()"
   ]
  },
  {
   "cell_type": "markdown",
   "metadata": {},
   "source": [
    "Next, we choose the loss function according to which we will train the DNN \n",
    "\n",
    "For classification problems, this is usually the cross-entropy, and since the output data was cast in categorical\n",
    "form, we choose the categorical_crossentropy defined in Keras’ losses module \n",
    "\n",
    "To optimize the weights of the net, we use SGD (Stochastic Gradient Descent) or other typical choices are RMSprop or Adam\n",
    "\n",
    "The parameters for the optimizer, such as lr (learning rate) or momentum are passed using the corresponding optional arguments of the SGD() function"
   ]
  },
  {
   "cell_type": "code",
   "execution_count": 29,
   "metadata": {},
   "outputs": [],
   "source": [
    "fcmodel.compile(loss='categorical_crossentropy',\n",
    "                optimizer=RMSprop(),\n",
    "                metrics=['accuracy'])"
   ]
  },
  {
   "cell_type": "markdown",
   "metadata": {},
   "source": [
    "### Train the NN"
   ]
  },
  {
   "cell_type": "markdown",
   "metadata": {},
   "source": [
    "The **batch size** defines the number of samples that will be propagated through the network.\n",
    "\n",
    "We have 60000 training samples and we set up a batch_size equal to 32. The algorithm takes the first 32 samples from the training dataset and trains the network. Next, it takes the second batch and trains the network again, and keep with this procedure until we have propagated all samples through of the network. \n",
    "\n",
    "**Training epochs** defines the number times that the learning algorithm will work through the entire training dataset.\n"
   ]
  },
  {
   "cell_type": "code",
   "execution_count": 30,
   "metadata": {},
   "outputs": [],
   "source": [
    "batch_size = 32\n",
    "epochs = 50"
   ]
  },
  {
   "cell_type": "code",
   "execution_count": 34,
   "metadata": {},
   "outputs": [
    {
     "name": "stdout",
     "output_type": "stream",
     "text": [
      "Train on 60000 samples, validate on 5000 samples\n",
      "Epoch 1/50\n",
      "60000/60000 [==============================] - 8s 134us/sample - loss: 0.0259 - acc: 0.9936 - val_loss: 0.3847 - val_acc: 0.9624\n",
      "Epoch 2/50\n",
      "60000/60000 [==============================] - 9s 146us/sample - loss: 0.0233 - acc: 0.9944 - val_loss: 0.4446 - val_acc: 0.9622\n",
      "Epoch 3/50\n",
      "60000/60000 [==============================] - 8s 133us/sample - loss: 0.0243 - acc: 0.9941 - val_loss: 0.4011 - val_acc: 0.9642\n",
      "Epoch 4/50\n",
      "60000/60000 [==============================] - 7s 116us/sample - loss: 0.0222 - acc: 0.9947 - val_loss: 0.4264 - val_acc: 0.9632\n",
      "Epoch 5/50\n",
      "60000/60000 [==============================] - 8s 131us/sample - loss: 0.0213 - acc: 0.9944 - val_loss: 0.4135 - val_acc: 0.9656\n",
      "Epoch 6/50\n",
      "60000/60000 [==============================] - 7s 120us/sample - loss: 0.0222 - acc: 0.9942 - val_loss: 0.4169 - val_acc: 0.9642\n",
      "Epoch 7/50\n",
      "60000/60000 [==============================] - 8s 125us/sample - loss: 0.0213 - acc: 0.9943 - val_loss: 0.4516 - val_acc: 0.9634\n",
      "Epoch 8/50\n",
      "60000/60000 [==============================] - 9s 145us/sample - loss: 0.0218 - acc: 0.9948 - val_loss: 0.4312 - val_acc: 0.9650\n",
      "Epoch 9/50\n",
      "60000/60000 [==============================] - 9s 143us/sample - loss: 0.0198 - acc: 0.9950 - val_loss: 0.4308 - val_acc: 0.9626\n",
      "Epoch 10/50\n",
      "60000/60000 [==============================] - 6s 108us/sample - loss: 0.0219 - acc: 0.9942 - val_loss: 0.4281 - val_acc: 0.9644\n",
      "Epoch 11/50\n",
      "60000/60000 [==============================] - 8s 129us/sample - loss: 0.0211 - acc: 0.9947 - val_loss: 0.4612 - val_acc: 0.9652\n",
      "Epoch 12/50\n",
      "60000/60000 [==============================] - 7s 117us/sample - loss: 0.0200 - acc: 0.9949 - val_loss: 0.4579 - val_acc: 0.9646\n",
      "Epoch 13/50\n",
      "60000/60000 [==============================] - 8s 130us/sample - loss: 0.0199 - acc: 0.9948 - val_loss: 0.4759 - val_acc: 0.9622\n",
      "Epoch 14/50\n",
      "60000/60000 [==============================] - 8s 127us/sample - loss: 0.0198 - acc: 0.9950 - val_loss: 0.4994 - val_acc: 0.9654\n",
      "Epoch 15/50\n",
      "60000/60000 [==============================] - 8s 127us/sample - loss: 0.0226 - acc: 0.9947 - val_loss: 0.4652 - val_acc: 0.9636\n",
      "Epoch 16/50\n",
      "60000/60000 [==============================] - 11s 188us/sample - loss: 0.0192 - acc: 0.9950 - val_loss: 0.4407 - val_acc: 0.9640\n",
      "Epoch 17/50\n",
      "60000/60000 [==============================] - 7s 117us/sample - loss: 0.0190 - acc: 0.9955 - val_loss: 0.4814 - val_acc: 0.9626\n",
      "Epoch 18/50\n",
      "60000/60000 [==============================] - 8s 127us/sample - loss: 0.0186 - acc: 0.9952 - val_loss: 0.5081 - val_acc: 0.9628\n",
      "Epoch 19/50\n",
      "60000/60000 [==============================] - 7s 111us/sample - loss: 0.0201 - acc: 0.9949 - val_loss: 0.4946 - val_acc: 0.9630\n",
      "Epoch 20/50\n",
      "60000/60000 [==============================] - 8s 129us/sample - loss: 0.0195 - acc: 0.9949 - val_loss: 0.4777 - val_acc: 0.9652\n",
      "Epoch 21/50\n",
      "60000/60000 [==============================] - 7s 117us/sample - loss: 0.0178 - acc: 0.9954 - val_loss: 0.5019 - val_acc: 0.9648\n",
      "Epoch 22/50\n",
      "60000/60000 [==============================] - 9s 147us/sample - loss: 0.0189 - acc: 0.9950 - val_loss: 0.4802 - val_acc: 0.9632\n",
      "Epoch 23/50\n",
      "60000/60000 [==============================] - 7s 121us/sample - loss: 0.0180 - acc: 0.9953 - val_loss: 0.5343 - val_acc: 0.9644\n",
      "Epoch 24/50\n",
      "60000/60000 [==============================] - 6s 107us/sample - loss: 0.0168 - acc: 0.9953 - val_loss: 0.5080 - val_acc: 0.9670\n",
      "Epoch 25/50\n",
      "60000/60000 [==============================] - 6s 104us/sample - loss: 0.0199 - acc: 0.9950 - val_loss: 0.5204 - val_acc: 0.9648\n",
      "Epoch 26/50\n",
      "60000/60000 [==============================] - 8s 132us/sample - loss: 0.0177 - acc: 0.9952 - val_loss: 0.5079 - val_acc: 0.9614\n",
      "Epoch 27/50\n",
      "60000/60000 [==============================] - 9s 142us/sample - loss: 0.0171 - acc: 0.9957 - val_loss: 0.5272 - val_acc: 0.9666\n",
      "Epoch 28/50\n",
      "60000/60000 [==============================] - 7s 121us/sample - loss: 0.0175 - acc: 0.9958 - val_loss: 0.5145 - val_acc: 0.9654\n",
      "Epoch 29/50\n",
      "60000/60000 [==============================] - 7s 116us/sample - loss: 0.0169 - acc: 0.9954 - val_loss: 0.5214 - val_acc: 0.9634\n",
      "Epoch 30/50\n",
      "60000/60000 [==============================] - 7s 114us/sample - loss: 0.0177 - acc: 0.9954 - val_loss: 0.5470 - val_acc: 0.9644\n",
      "Epoch 31/50\n",
      "60000/60000 [==============================] - 8s 131us/sample - loss: 0.0188 - acc: 0.9952 - val_loss: 0.5607 - val_acc: 0.9626\n",
      "Epoch 32/50\n",
      "60000/60000 [==============================] - 7s 118us/sample - loss: 0.0164 - acc: 0.9954 - val_loss: 0.5682 - val_acc: 0.9620\n",
      "Epoch 33/50\n",
      "60000/60000 [==============================] - 8s 139us/sample - loss: 0.0184 - acc: 0.9954 - val_loss: 0.5415 - val_acc: 0.9640\n",
      "Epoch 34/50\n",
      "60000/60000 [==============================] - 8s 130us/sample - loss: 0.0178 - acc: 0.9954 - val_loss: 0.5752 - val_acc: 0.9638\n",
      "Epoch 35/50\n",
      "60000/60000 [==============================] - 8s 136us/sample - loss: 0.0145 - acc: 0.9961 - val_loss: 0.5807 - val_acc: 0.9644\n",
      "Epoch 36/50\n",
      "60000/60000 [==============================] - 16s 272us/sample - loss: 0.0164 - acc: 0.9962 - val_loss: 0.5712 - val_acc: 0.9634\n",
      "Epoch 37/50\n",
      "60000/60000 [==============================] - 8s 132us/sample - loss: 0.0169 - acc: 0.9961 - val_loss: 0.5736 - val_acc: 0.9654\n",
      "Epoch 38/50\n",
      "60000/60000 [==============================] - 7s 119us/sample - loss: 0.0163 - acc: 0.9961 - val_loss: 0.5970 - val_acc: 0.9662\n",
      "Epoch 39/50\n",
      "60000/60000 [==============================] - 8s 130us/sample - loss: 0.0156 - acc: 0.9958 - val_loss: 0.5806 - val_acc: 0.9640\n",
      "Epoch 40/50\n",
      "60000/60000 [==============================] - 9s 142us/sample - loss: 0.0146 - acc: 0.9963 - val_loss: 0.6342 - val_acc: 0.9612\n",
      "Epoch 41/50\n",
      "60000/60000 [==============================] - 8s 130us/sample - loss: 0.0164 - acc: 0.9956 - val_loss: 0.6197 - val_acc: 0.9638\n",
      "Epoch 42/50\n",
      "60000/60000 [==============================] - 7s 114us/sample - loss: 0.0146 - acc: 0.9961 - val_loss: 0.5976 - val_acc: 0.9636\n",
      "Epoch 43/50\n",
      "60000/60000 [==============================] - 6s 106us/sample - loss: 0.0168 - acc: 0.9960 - val_loss: 0.6335 - val_acc: 0.9640\n",
      "Epoch 44/50\n",
      "60000/60000 [==============================] - 6s 106us/sample - loss: 0.0143 - acc: 0.9964 - val_loss: 0.6325 - val_acc: 0.9640\n",
      "Epoch 45/50\n",
      "60000/60000 [==============================] - 6s 108us/sample - loss: 0.0159 - acc: 0.9959 - val_loss: 0.6415 - val_acc: 0.9618\n",
      "Epoch 46/50\n",
      "60000/60000 [==============================] - 7s 111us/sample - loss: 0.0165 - acc: 0.9959 - val_loss: 0.6056 - val_acc: 0.9666\n",
      "Epoch 47/50\n",
      "60000/60000 [==============================] - 8s 130us/sample - loss: 0.0153 - acc: 0.9962 - val_loss: 0.5968 - val_acc: 0.9652\n",
      "Epoch 48/50\n",
      "60000/60000 [==============================] - 7s 122us/sample - loss: 0.0134 - acc: 0.9966 - val_loss: 0.6569 - val_acc: 0.9664\n",
      "Epoch 49/50\n",
      "60000/60000 [==============================] - 7s 114us/sample - loss: 0.0149 - acc: 0.9962 - val_loss: 0.6019 - val_acc: 0.9636\n",
      "Epoch 50/50\n",
      "60000/60000 [==============================] - 7s 109us/sample - loss: 0.0151 - acc: 0.9967 - val_loss: 0.6123 - val_acc: 0.9642\n"
     ]
    }
   ],
   "source": [
    "# training the NN\n",
    "history = fcmodel.fit(x_train, y_train,\n",
    "                      batch_size=batch_size,\n",
    "                      epochs=epochs,\n",
    "                      verbose=1,\n",
    "                      validation_data=(x_test, y_test))"
   ]
  },
  {
   "cell_type": "code",
   "execution_count": 35,
   "metadata": {},
   "outputs": [
    {
     "name": "stdout",
     "output_type": "stream",
     "text": [
      "Test loss: 0.6123007285869906\n",
      "Test accuracy: 0.9642\n"
     ]
    }
   ],
   "source": [
    "score = fcmodel.evaluate(x_test, y_test, verbose=0)\n",
    "print('Test loss:', score[0])\n",
    "print('Test accuracy:', score[1])"
   ]
  },
  {
   "cell_type": "code",
   "execution_count": 36,
   "metadata": {},
   "outputs": [
    {
     "name": "stdout",
     "output_type": "stream",
     "text": [
      "Test loss: 0.707311995144169\n",
      "Test accuracy: 0.9592\n"
     ]
    }
   ],
   "source": [
    "# in principle, we should not look at the score for this set of data\n",
    "# until we have finished tuning our model\n",
    "score = fcmodel.evaluate(x_val, y_val, verbose=0)\n",
    "print('Test loss:', score[0])\n",
    "print('Test accuracy:', score[1])"
   ]
  },
  {
   "cell_type": "code",
   "execution_count": 37,
   "metadata": {},
   "outputs": [],
   "source": [
    "def histplot(history):\n",
    "    hist = pd.DataFrame(history.history)\n",
    "    fig, (ax1, ax2) = plt.subplots(1, 2, figsize=(15, 5))\n",
    "    hist.plot(y=['loss', 'val_loss'], ax=ax1)\n",
    "    min_loss = hist['val_loss'].min()\n",
    "    ax1.hlines(min_loss, 0, len(hist), linestyle='dotted',\n",
    "               label='min(val_loss) = {:.3f}'.format(min_loss))\n",
    "    ax1.legend(loc='upper right')\n",
    "    hist.plot(y=['acc', 'val_acc'], ax=ax2)\n",
    "    max_acc = hist['val_acc'].max()\n",
    "    ax2.hlines(max_acc, 0, len(hist), linestyle='dotted',\n",
    "               label='max(val_acc) = {:.3f}'.format(max_acc))\n",
    "    ax2.legend(loc='lower right', fontsize='large')"
   ]
  },
  {
   "cell_type": "code",
   "execution_count": 38,
   "metadata": {},
   "outputs": [
    {
     "data": {
      "image/png": "[encoded data removed]",
      "text/plain": [
       "<Figure size 1080x360 with 2 Axes>"
      ]
     },
     "metadata": {
      "needs_background": "light"
     },
     "output_type": "display_data"
    }
   ],
   "source": [
    "histplot(history)"
   ]
  },
  {
   "cell_type": "markdown",
   "metadata": {},
   "source": [
    "## Now let's use a Convolutional Neural Network (CNN)"
   ]
  },
  {
   "cell_type": "markdown",
   "metadata": {},
   "source": [
    "### We need to reshape the data  "
   ]
  },
  {
   "cell_type": "code",
   "execution_count": 39,
   "metadata": {},
   "outputs": [],
   "source": [
    "x_train = x_train.reshape(-1, 28, 28, 1)\n",
    "x_test = x_test.reshape(-1, 28, 28, 1)"
   ]
  },
  {
   "cell_type": "code",
   "execution_count": 40,
   "metadata": {},
   "outputs": [
    {
     "data": {
      "text/plain": [
       "(60000, 28, 28, 1)"
      ]
     },
     "execution_count": 40,
     "metadata": {},
     "output_type": "execute_result"
    }
   ],
   "source": [
    "x_train.shape"
   ]
  },
  {
   "cell_type": "markdown",
   "metadata": {},
   "source": [
    "###  Construct the network"
   ]
  },
  {
   "cell_type": "code",
   "execution_count": 41,
   "metadata": {},
   "outputs": [],
   "source": [
    "# a fairly small network for speed\n",
    "cnnmodel = Sequential()\n",
    "cnnmodel.add(Conv2D(8, (3, 3), activation='relu', input_shape=(28, 28, 1)))\n",
    "cnnmodel.add(MaxPooling2D((3, 3)))\n",
    "cnnmodel.add(Conv2D(16, (3, 3), activation='relu'))\n",
    "cnnmodel.add(MaxPooling2D((2, 2)))\n",
    "cnnmodel.add(Flatten())\n",
    "cnnmodel.add(Dense(num_classes, activation='softmax'))\n",
    "# could include dropout, regularisation, ..."
   ]
  },
  {
   "cell_type": "code",
   "execution_count": 42,
   "metadata": {},
   "outputs": [],
   "source": [
    "cnnmodel.compile(loss='categorical_crossentropy',\n",
    "                optimizer=RMSprop(),\n",
    "                metrics=['accuracy'])"
   ]
  },
  {
   "cell_type": "code",
   "execution_count": 43,
   "metadata": {},
   "outputs": [
    {
     "name": "stdout",
     "output_type": "stream",
     "text": [
      "Model: \"sequential_1\"\n",
      "_________________________________________________________________\n",
      "Layer (type)                 Output Shape              Param #   \n",
      "=================================================================\n",
      "conv2d (Conv2D)              (None, 26, 26, 8)         80        \n",
      "_________________________________________________________________\n",
      "max_pooling2d (MaxPooling2D) (None, 8, 8, 8)           0         \n",
      "_________________________________________________________________\n",
      "conv2d_1 (Conv2D)            (None, 6, 6, 16)          1168      \n",
      "_________________________________________________________________\n",
      "max_pooling2d_1 (MaxPooling2 (None, 3, 3, 16)          0         \n",
      "_________________________________________________________________\n",
      "flatten (Flatten)            (None, 144)               0         \n",
      "_________________________________________________________________\n",
      "dense_3 (Dense)              (None, 10)                1450      \n",
      "=================================================================\n",
      "Total params: 2,698\n",
      "Trainable params: 2,698\n",
      "Non-trainable params: 0\n",
      "_________________________________________________________________\n"
     ]
    }
   ],
   "source": [
    "cnnmodel.summary()"
   ]
  },
  {
   "cell_type": "code",
   "execution_count": 44,
   "metadata": {},
   "outputs": [],
   "source": [
    "# save weights for reinitialising below\n",
    "cnnmodel.save_weights('/tmp/cnnmodel_init_weights.tf')"
   ]
  },
  {
   "cell_type": "markdown",
   "metadata": {},
   "source": [
    "### Train the CNN"
   ]
  },
  {
   "cell_type": "code",
   "execution_count": 45,
   "metadata": {},
   "outputs": [
    {
     "name": "stdout",
     "output_type": "stream",
     "text": [
      "Train on 60000 samples, validate on 5000 samples\n",
      "Epoch 1/150\n",
      "60000/60000 [==============================] - 15s 255us/sample - loss: 0.3963 - acc: 0.8835 - val_loss: 0.1249 - val_acc: 0.9648\n",
      "Epoch 2/150\n",
      "60000/60000 [==============================] - 15s 254us/sample - loss: 0.1238 - acc: 0.9618 - val_loss: 0.0828 - val_acc: 0.9772\n",
      "Epoch 3/150\n",
      "60000/60000 [==============================] - 16s 270us/sample - loss: 0.0929 - acc: 0.9715 - val_loss: 0.0670 - val_acc: 0.9804\n",
      "Epoch 4/150\n",
      "60000/60000 [==============================] - 14s 228us/sample - loss: 0.0790 - acc: 0.9755 - val_loss: 0.0611 - val_acc: 0.9816\n",
      "Epoch 5/150\n",
      "60000/60000 [==============================] - 13s 216us/sample - loss: 0.0700 - acc: 0.9791 - val_loss: 0.0565 - val_acc: 0.9828\n",
      "Epoch 6/150\n",
      "60000/60000 [==============================] - 14s 225us/sample - loss: 0.0641 - acc: 0.9808 - val_loss: 0.0478 - val_acc: 0.9824\n",
      "Epoch 7/150\n",
      "60000/60000 [==============================] - 13s 212us/sample - loss: 0.0596 - acc: 0.9821 - val_loss: 0.0505 - val_acc: 0.9840\n",
      "Epoch 8/150\n",
      "60000/60000 [==============================] - 13s 209us/sample - loss: 0.0564 - acc: 0.9829 - val_loss: 0.0497 - val_acc: 0.9832\n",
      "Epoch 9/150\n",
      "60000/60000 [==============================] - 13s 214us/sample - loss: 0.0530 - acc: 0.9839 - val_loss: 0.0453 - val_acc: 0.9860\n",
      "Epoch 10/150\n",
      "60000/60000 [==============================] - 15s 242us/sample - loss: 0.0509 - acc: 0.9846 - val_loss: 0.0464 - val_acc: 0.9844\n",
      "Epoch 11/150\n",
      "60000/60000 [==============================] - 17s 280us/sample - loss: 0.0483 - acc: 0.9854 - val_loss: 0.0564 - val_acc: 0.9814\n",
      "Epoch 12/150\n",
      "60000/60000 [==============================] - 15s 243us/sample - loss: 0.0468 - acc: 0.9858 - val_loss: 0.0402 - val_acc: 0.9852\n",
      "Epoch 13/150\n",
      "60000/60000 [==============================] - 14s 241us/sample - loss: 0.0452 - acc: 0.9865 - val_loss: 0.0388 - val_acc: 0.9866\n",
      "Epoch 14/150\n",
      "60000/60000 [==============================] - 15s 247us/sample - loss: 0.0437 - acc: 0.9865 - val_loss: 0.0454 - val_acc: 0.9842\n",
      "Epoch 15/150\n",
      "60000/60000 [==============================] - 15s 250us/sample - loss: 0.0424 - acc: 0.9873 - val_loss: 0.0384 - val_acc: 0.9876\n",
      "Epoch 16/150\n",
      "60000/60000 [==============================] - 14s 242us/sample - loss: 0.0410 - acc: 0.9873 - val_loss: 0.0461 - val_acc: 0.9864\n",
      "Epoch 17/150\n",
      "60000/60000 [==============================] - 15s 244us/sample - loss: 0.0405 - acc: 0.9881 - val_loss: 0.0408 - val_acc: 0.9860\n",
      "Epoch 18/150\n",
      "60000/60000 [==============================] - 15s 255us/sample - loss: 0.0391 - acc: 0.9881 - val_loss: 0.0436 - val_acc: 0.9850\n",
      "Epoch 19/150\n",
      "60000/60000 [==============================] - 16s 265us/sample - loss: 0.0378 - acc: 0.9886 - val_loss: 0.0450 - val_acc: 0.9870\n",
      "Epoch 20/150\n",
      "60000/60000 [==============================] - 15s 243us/sample - loss: 0.0378 - acc: 0.9890 - val_loss: 0.0390 - val_acc: 0.9866\n",
      "Epoch 21/150\n",
      "60000/60000 [==============================] - 15s 256us/sample - loss: 0.0373 - acc: 0.9888 - val_loss: 0.0457 - val_acc: 0.9846\n",
      "Epoch 22/150\n",
      "60000/60000 [==============================] - 15s 246us/sample - loss: 0.0364 - acc: 0.9889 - val_loss: 0.0414 - val_acc: 0.9858\n",
      "Epoch 23/150\n",
      "60000/60000 [==============================] - 15s 255us/sample - loss: 0.0359 - acc: 0.9892 - val_loss: 0.0399 - val_acc: 0.9870\n",
      "Epoch 24/150\n",
      "60000/60000 [==============================] - 14s 240us/sample - loss: 0.0352 - acc: 0.9894 - val_loss: 0.0398 - val_acc: 0.9870\n",
      "Epoch 25/150\n",
      "60000/60000 [==============================] - 15s 256us/sample - loss: 0.0347 - acc: 0.9898 - val_loss: 0.0414 - val_acc: 0.9856\n",
      "Epoch 26/150\n",
      "60000/60000 [==============================] - 18s 297us/sample - loss: 0.0340 - acc: 0.9900 - val_loss: 0.0397 - val_acc: 0.9870\n",
      "Epoch 27/150\n",
      "60000/60000 [==============================] - 16s 274us/sample - loss: 0.0334 - acc: 0.9898 - val_loss: 0.0350 - val_acc: 0.9874\n",
      "Epoch 28/150\n",
      "60000/60000 [==============================] - 16s 268us/sample - loss: 0.0329 - acc: 0.9900 - val_loss: 0.0359 - val_acc: 0.9862\n",
      "Epoch 29/150\n",
      "60000/60000 [==============================] - 15s 243us/sample - loss: 0.0322 - acc: 0.9900 - val_loss: 0.0395 - val_acc: 0.9870\n",
      "Epoch 30/150\n",
      "60000/60000 [==============================] - 16s 261us/sample - loss: 0.0321 - acc: 0.9903 - val_loss: 0.0425 - val_acc: 0.9878\n",
      "Epoch 31/150\n",
      "60000/60000 [==============================] - 16s 266us/sample - loss: 0.0315 - acc: 0.9908 - val_loss: 0.0424 - val_acc: 0.9874\n",
      "Epoch 32/150\n",
      "60000/60000 [==============================] - 15s 256us/sample - loss: 0.0312 - acc: 0.9908 - val_loss: 0.0452 - val_acc: 0.9856\n",
      "Epoch 33/150\n",
      "60000/60000 [==============================] - 15s 252us/sample - loss: 0.0306 - acc: 0.9908 - val_loss: 0.0458 - val_acc: 0.9874\n",
      "Epoch 34/150\n",
      "60000/60000 [==============================] - 15s 251us/sample - loss: 0.0301 - acc: 0.9909 - val_loss: 0.0455 - val_acc: 0.9868\n",
      "Epoch 35/150\n",
      "60000/60000 [==============================] - 15s 251us/sample - loss: 0.0299 - acc: 0.9911 - val_loss: 0.0461 - val_acc: 0.9848\n",
      "Epoch 36/150\n",
      "60000/60000 [==============================] - 13s 223us/sample - loss: 0.0300 - acc: 0.9914 - val_loss: 0.0501 - val_acc: 0.9848\n",
      "Epoch 37/150\n",
      "60000/60000 [==============================] - 13s 217us/sample - loss: 0.0290 - acc: 0.9911 - val_loss: 0.0421 - val_acc: 0.9882\n",
      "Epoch 38/150\n",
      "60000/60000 [==============================] - 14s 237us/sample - loss: 0.0297 - acc: 0.9916 - val_loss: 0.0432 - val_acc: 0.9860\n",
      "Epoch 39/150\n",
      "60000/60000 [==============================] - 13s 224us/sample - loss: 0.0284 - acc: 0.9912 - val_loss: 0.0471 - val_acc: 0.9842\n",
      "Epoch 40/150\n",
      "60000/60000 [==============================] - 13s 218us/sample - loss: 0.0279 - acc: 0.9918 - val_loss: 0.0446 - val_acc: 0.9860\n",
      "Epoch 41/150\n",
      "60000/60000 [==============================] - 13s 217us/sample - loss: 0.0282 - acc: 0.9916 - val_loss: 0.0430 - val_acc: 0.9868\n",
      "Epoch 42/150\n",
      "60000/60000 [==============================] - 13s 218us/sample - loss: 0.0278 - acc: 0.9916 - val_loss: 0.0407 - val_acc: 0.9872\n",
      "Epoch 43/150\n",
      "60000/60000 [==============================] - 13s 220us/sample - loss: 0.0271 - acc: 0.9918 - val_loss: 0.0505 - val_acc: 0.9844\n",
      "Epoch 44/150\n",
      "60000/60000 [==============================] - 7s 115us/sample - loss: 0.0272 - acc: 0.9916 - val_loss: 0.0518 - val_acc: 0.9848\n",
      "Epoch 45/150\n",
      "60000/60000 [==============================] - 13s 223us/sample - loss: 0.0269 - acc: 0.9921 - val_loss: 0.0481 - val_acc: 0.9864\n",
      "Epoch 46/150\n",
      "60000/60000 [==============================] - 13s 219us/sample - loss: 0.0269 - acc: 0.9919 - val_loss: 0.0534 - val_acc: 0.9854\n",
      "Epoch 47/150\n",
      "60000/60000 [==============================] - 14s 232us/sample - loss: 0.0263 - acc: 0.9922 - val_loss: 0.0509 - val_acc: 0.9868\n",
      "Epoch 48/150\n",
      "60000/60000 [==============================] - 14s 235us/sample - loss: 0.0263 - acc: 0.9920 - val_loss: 0.0432 - val_acc: 0.9864\n",
      "Epoch 49/150\n",
      "60000/60000 [==============================] - 13s 218us/sample - loss: 0.0261 - acc: 0.9920 - val_loss: 0.0487 - val_acc: 0.9844\n",
      "Epoch 50/150\n",
      "60000/60000 [==============================] - 13s 217us/sample - loss: 0.0261 - acc: 0.9923 - val_loss: 0.0529 - val_acc: 0.9844\n",
      "Epoch 51/150\n",
      "60000/60000 [==============================] - 14s 230us/sample - loss: 0.0255 - acc: 0.9920 - val_loss: 0.0462 - val_acc: 0.9866\n",
      "Epoch 52/150\n",
      "60000/60000 [==============================] - 13s 219us/sample - loss: 0.0254 - acc: 0.9921 - val_loss: 0.0491 - val_acc: 0.9860\n",
      "Epoch 53/150\n",
      "60000/60000 [==============================] - 13s 217us/sample - loss: 0.0256 - acc: 0.9926 - val_loss: 0.0480 - val_acc: 0.9862\n",
      "Epoch 54/150\n",
      "60000/60000 [==============================] - 15s 253us/sample - loss: 0.0255 - acc: 0.9922 - val_loss: 0.0524 - val_acc: 0.9852\n",
      "Epoch 55/150\n",
      "60000/60000 [==============================] - 15s 242us/sample - loss: 0.0246 - acc: 0.9924 - val_loss: 0.0483 - val_acc: 0.9860\n",
      "Epoch 56/150\n",
      "60000/60000 [==============================] - 16s 269us/sample - loss: 0.0252 - acc: 0.9929 - val_loss: 0.0502 - val_acc: 0.9850\n",
      "Epoch 57/150\n",
      "60000/60000 [==============================] - 14s 233us/sample - loss: 0.0243 - acc: 0.9926 - val_loss: 0.0492 - val_acc: 0.9870\n",
      "Epoch 58/150\n"
     ]
    },
    {
     "name": "stdout",
     "output_type": "stream",
     "text": [
      "60000/60000 [==============================] - 15s 250us/sample - loss: 0.0240 - acc: 0.9928 - val_loss: 0.0536 - val_acc: 0.9852\n",
      "Epoch 59/150\n",
      "60000/60000 [==============================] - 18s 304us/sample - loss: 0.0241 - acc: 0.9926 - val_loss: 0.0558 - val_acc: 0.9854\n",
      "Epoch 60/150\n",
      "60000/60000 [==============================] - 13s 217us/sample - loss: 0.0245 - acc: 0.9928 - val_loss: 0.0685 - val_acc: 0.9836\n",
      "Epoch 61/150\n",
      "60000/60000 [==============================] - 19s 315us/sample - loss: 0.0237 - acc: 0.9930 - val_loss: 0.0544 - val_acc: 0.9854\n",
      "Epoch 62/150\n",
      "60000/60000 [==============================] - 16s 262us/sample - loss: 0.0237 - acc: 0.9928 - val_loss: 0.0546 - val_acc: 0.9838\n",
      "Epoch 63/150\n",
      "60000/60000 [==============================] - 13s 218us/sample - loss: 0.0238 - acc: 0.9926 - val_loss: 0.0543 - val_acc: 0.9870\n",
      "Epoch 64/150\n",
      "60000/60000 [==============================] - 16s 259us/sample - loss: 0.0239 - acc: 0.9929 - val_loss: 0.0537 - val_acc: 0.9848\n",
      "Epoch 65/150\n",
      "60000/60000 [==============================] - 17s 278us/sample - loss: 0.0241 - acc: 0.9927 - val_loss: 0.0500 - val_acc: 0.9870\n",
      "Epoch 66/150\n",
      "60000/60000 [==============================] - 16s 267us/sample - loss: 0.0239 - acc: 0.9931 - val_loss: 0.0586 - val_acc: 0.9866\n",
      "Epoch 67/150\n",
      "60000/60000 [==============================] - 14s 236us/sample - loss: 0.0229 - acc: 0.9934 - val_loss: 0.0548 - val_acc: 0.9844\n",
      "Epoch 68/150\n",
      "60000/60000 [==============================] - 19s 325us/sample - loss: 0.0233 - acc: 0.9928 - val_loss: 0.0538 - val_acc: 0.9862\n",
      "Epoch 69/150\n",
      "60000/60000 [==============================] - 16s 269us/sample - loss: 0.0232 - acc: 0.9932 - val_loss: 0.0568 - val_acc: 0.9876\n",
      "Epoch 70/150\n",
      "60000/60000 [==============================] - 14s 234us/sample - loss: 0.0236 - acc: 0.9930 - val_loss: 0.0585 - val_acc: 0.9866\n",
      "Epoch 71/150\n",
      "60000/60000 [==============================] - 15s 254us/sample - loss: 0.0236 - acc: 0.9929 - val_loss: 0.0588 - val_acc: 0.9868\n",
      "Epoch 72/150\n",
      "60000/60000 [==============================] - 14s 240us/sample - loss: 0.0227 - acc: 0.9931 - val_loss: 0.0600 - val_acc: 0.9864\n",
      "Epoch 73/150\n",
      "60000/60000 [==============================] - 14s 236us/sample - loss: 0.0231 - acc: 0.9932 - val_loss: 0.0593 - val_acc: 0.9864\n",
      "Epoch 74/150\n",
      "60000/60000 [==============================] - 14s 235us/sample - loss: 0.0222 - acc: 0.9935 - val_loss: 0.0632 - val_acc: 0.9856\n",
      "Epoch 75/150\n",
      "60000/60000 [==============================] - 14s 237us/sample - loss: 0.0227 - acc: 0.9933 - val_loss: 0.0649 - val_acc: 0.9850\n",
      "Epoch 76/150\n",
      "60000/60000 [==============================] - 14s 235us/sample - loss: 0.0225 - acc: 0.9931 - val_loss: 0.0573 - val_acc: 0.9870\n",
      "Epoch 77/150\n",
      "60000/60000 [==============================] - 14s 236us/sample - loss: 0.0227 - acc: 0.9934 - val_loss: 0.0559 - val_acc: 0.9872\n",
      "Epoch 78/150\n",
      "60000/60000 [==============================] - 14s 236us/sample - loss: 0.0218 - acc: 0.9934 - val_loss: 0.0641 - val_acc: 0.9858\n",
      "Epoch 79/150\n",
      "60000/60000 [==============================] - 14s 235us/sample - loss: 0.0224 - acc: 0.9933 - val_loss: 0.0578 - val_acc: 0.9860\n",
      "Epoch 80/150\n",
      "60000/60000 [==============================] - 16s 260us/sample - loss: 0.0223 - acc: 0.9934 - val_loss: 0.0585 - val_acc: 0.9860\n",
      "Epoch 81/150\n",
      "60000/60000 [==============================] - 14s 235us/sample - loss: 0.0219 - acc: 0.9933 - val_loss: 0.0674 - val_acc: 0.9854\n",
      "Epoch 82/150\n",
      "60000/60000 [==============================] - 14s 240us/sample - loss: 0.0217 - acc: 0.9934 - val_loss: 0.0638 - val_acc: 0.9858\n",
      "Epoch 83/150\n",
      "60000/60000 [==============================] - 14s 235us/sample - loss: 0.0217 - acc: 0.9937 - val_loss: 0.0650 - val_acc: 0.9852\n",
      "Epoch 84/150\n",
      "60000/60000 [==============================] - 16s 266us/sample - loss: 0.0219 - acc: 0.9935 - val_loss: 0.0656 - val_acc: 0.9858\n",
      "Epoch 85/150\n",
      "60000/60000 [==============================] - 14s 237us/sample - loss: 0.0215 - acc: 0.9934 - val_loss: 0.0664 - val_acc: 0.9844\n",
      "Epoch 86/150\n",
      "60000/60000 [==============================] - 14s 241us/sample - loss: 0.0216 - acc: 0.9937 - val_loss: 0.0646 - val_acc: 0.9860\n",
      "Epoch 87/150\n",
      "60000/60000 [==============================] - 14s 235us/sample - loss: 0.0206 - acc: 0.9937 - val_loss: 0.0608 - val_acc: 0.9856\n",
      "Epoch 88/150\n",
      "60000/60000 [==============================] - 14s 241us/sample - loss: 0.0213 - acc: 0.9936 - val_loss: 0.0632 - val_acc: 0.9854\n",
      "Epoch 89/150\n",
      "60000/60000 [==============================] - 14s 237us/sample - loss: 0.0211 - acc: 0.9940 - val_loss: 0.0655 - val_acc: 0.9856\n",
      "Epoch 90/150\n",
      "60000/60000 [==============================] - 14s 231us/sample - loss: 0.0213 - acc: 0.9941 - val_loss: 0.0684 - val_acc: 0.9850\n",
      "Epoch 91/150\n",
      "60000/60000 [==============================] - 14s 230us/sample - loss: 0.0212 - acc: 0.9936 - val_loss: 0.0648 - val_acc: 0.9852\n",
      "Epoch 92/150\n",
      "60000/60000 [==============================] - 15s 257us/sample - loss: 0.0212 - acc: 0.9939 - val_loss: 0.0627 - val_acc: 0.9860\n",
      "Epoch 93/150\n",
      "60000/60000 [==============================] - 14s 237us/sample - loss: 0.0204 - acc: 0.9941 - val_loss: 0.0698 - val_acc: 0.9850\n",
      "Epoch 94/150\n",
      "60000/60000 [==============================] - 14s 233us/sample - loss: 0.0206 - acc: 0.9940 - val_loss: 0.0748 - val_acc: 0.9838\n",
      "Epoch 95/150\n",
      "60000/60000 [==============================] - 14s 236us/sample - loss: 0.0210 - acc: 0.9938 - val_loss: 0.0673 - val_acc: 0.9856\n",
      "Epoch 96/150\n",
      "60000/60000 [==============================] - 14s 240us/sample - loss: 0.0210 - acc: 0.9938 - val_loss: 0.0745 - val_acc: 0.9860\n",
      "Epoch 97/150\n",
      "60000/60000 [==============================] - 14s 241us/sample - loss: 0.0209 - acc: 0.9937 - val_loss: 0.0731 - val_acc: 0.9840\n",
      "Epoch 98/150\n",
      "60000/60000 [==============================] - 14s 236us/sample - loss: 0.0207 - acc: 0.9944 - val_loss: 0.0714 - val_acc: 0.9866\n",
      "Epoch 99/150\n",
      "60000/60000 [==============================] - 15s 244us/sample - loss: 0.0208 - acc: 0.9938 - val_loss: 0.0770 - val_acc: 0.9858\n",
      "Epoch 100/150\n",
      "60000/60000 [==============================] - 14s 240us/sample - loss: 0.0198 - acc: 0.9945 - val_loss: 0.0699 - val_acc: 0.9862\n",
      "Epoch 101/150\n",
      "60000/60000 [==============================] - 14s 234us/sample - loss: 0.0203 - acc: 0.9943 - val_loss: 0.0732 - val_acc: 0.9840\n",
      "Epoch 102/150\n",
      "60000/60000 [==============================] - 14s 237us/sample - loss: 0.0203 - acc: 0.9938 - val_loss: 0.0703 - val_acc: 0.9850\n",
      "Epoch 103/150\n",
      "60000/60000 [==============================] - 14s 238us/sample - loss: 0.0203 - acc: 0.9943 - val_loss: 0.0718 - val_acc: 0.9854\n",
      "Epoch 104/150\n",
      "60000/60000 [==============================] - 14s 234us/sample - loss: 0.0199 - acc: 0.9939 - val_loss: 0.0660 - val_acc: 0.9842\n",
      "Epoch 105/150\n",
      "60000/60000 [==============================] - 15s 258us/sample - loss: 0.0201 - acc: 0.9938 - val_loss: 0.0741 - val_acc: 0.9870\n",
      "Epoch 106/150\n",
      "60000/60000 [==============================] - 14s 237us/sample - loss: 0.0200 - acc: 0.9941 - val_loss: 0.0718 - val_acc: 0.9846\n",
      "Epoch 107/150\n",
      "60000/60000 [==============================] - 14s 238us/sample - loss: 0.0197 - acc: 0.9941 - val_loss: 0.0739 - val_acc: 0.9858\n",
      "Epoch 108/150\n",
      "60000/60000 [==============================] - 14s 235us/sample - loss: 0.0199 - acc: 0.9940 - val_loss: 0.0657 - val_acc: 0.9868\n",
      "Epoch 109/150\n",
      "60000/60000 [==============================] - 14s 236us/sample - loss: 0.0193 - acc: 0.9940 - val_loss: 0.0787 - val_acc: 0.9860\n",
      "Epoch 110/150\n",
      "60000/60000 [==============================] - 14s 237us/sample - loss: 0.0193 - acc: 0.9941 - val_loss: 0.0759 - val_acc: 0.9852\n",
      "Epoch 111/150\n",
      "60000/60000 [==============================] - 14s 235us/sample - loss: 0.0198 - acc: 0.9941 - val_loss: 0.0777 - val_acc: 0.9856\n",
      "Epoch 112/150\n",
      "60000/60000 [==============================] - 14s 241us/sample - loss: 0.0193 - acc: 0.9943 - val_loss: 0.0806 - val_acc: 0.9864\n",
      "Epoch 113/150\n",
      "60000/60000 [==============================] - 14s 229us/sample - loss: 0.0194 - acc: 0.9945 - val_loss: 0.0757 - val_acc: 0.9862\n",
      "Epoch 114/150\n",
      "60000/60000 [==============================] - 13s 221us/sample - loss: 0.0192 - acc: 0.9942 - val_loss: 0.0762 - val_acc: 0.9850\n",
      "Epoch 115/150\n"
     ]
    },
    {
     "name": "stdout",
     "output_type": "stream",
     "text": [
      "60000/60000 [==============================] - 2019s 34ms/sample - loss: 0.0194 - acc: 0.9943 - val_loss: 0.0761 - val_acc: 0.9858\n",
      "Epoch 116/150\n",
      "60000/60000 [==============================] - 34s 569us/sample - loss: 0.0186 - acc: 0.9945 - val_loss: 0.0768 - val_acc: 0.9848\n",
      "Epoch 117/150\n",
      "60000/60000 [==============================] - 35s 590us/sample - loss: 0.0198 - acc: 0.9943 - val_loss: 0.0774 - val_acc: 0.9864\n",
      "Epoch 118/150\n",
      "60000/60000 [==============================] - 32s 536us/sample - loss: 0.0192 - acc: 0.9945 - val_loss: 0.0803 - val_acc: 0.9856\n",
      "Epoch 119/150\n",
      "60000/60000 [==============================] - 28s 468us/sample - loss: 0.0196 - acc: 0.9945 - val_loss: 0.0819 - val_acc: 0.9858\n",
      "Epoch 120/150\n",
      "60000/60000 [==============================] - 27s 453us/sample - loss: 0.0193 - acc: 0.9945 - val_loss: 0.0789 - val_acc: 0.9860\n",
      "Epoch 121/150\n",
      "60000/60000 [==============================] - 27s 456us/sample - loss: 0.0189 - acc: 0.9945 - val_loss: 0.0916 - val_acc: 0.9838\n",
      "Epoch 122/150\n",
      "60000/60000 [==============================] - 29s 480us/sample - loss: 0.0188 - acc: 0.9941 - val_loss: 0.0798 - val_acc: 0.9848\n",
      "Epoch 123/150\n",
      "60000/60000 [==============================] - 29s 476us/sample - loss: 0.0192 - acc: 0.9941 - val_loss: 0.0896 - val_acc: 0.9836\n",
      "Epoch 124/150\n",
      "60000/60000 [==============================] - 29s 484us/sample - loss: 0.0183 - acc: 0.9943 - val_loss: 0.0913 - val_acc: 0.9840\n",
      "Epoch 125/150\n",
      "60000/60000 [==============================] - 28s 472us/sample - loss: 0.0184 - acc: 0.9948 - val_loss: 0.0831 - val_acc: 0.9856\n",
      "Epoch 126/150\n",
      "60000/60000 [==============================] - 30s 505us/sample - loss: 0.0179 - acc: 0.9947 - val_loss: 0.0890 - val_acc: 0.9836\n",
      "Epoch 127/150\n",
      "60000/60000 [==============================] - 52s 871us/sample - loss: 0.0183 - acc: 0.9945 - val_loss: 0.0797 - val_acc: 0.9854\n",
      "Epoch 128/150\n",
      "60000/60000 [==============================] - 67s 1ms/sample - loss: 0.0180 - acc: 0.9945 - val_loss: 0.0953 - val_acc: 0.9856\n",
      "Epoch 129/150\n",
      "60000/60000 [==============================] - 69s 1ms/sample - loss: 0.0184 - acc: 0.9945 - val_loss: 0.0885 - val_acc: 0.9842\n",
      "Epoch 130/150\n",
      "60000/60000 [==============================] - 68s 1ms/sample - loss: 0.0182 - acc: 0.9945 - val_loss: 0.0892 - val_acc: 0.9836\n",
      "Epoch 131/150\n",
      "60000/60000 [==============================] - 71s 1ms/sample - loss: 0.0176 - acc: 0.9946 - val_loss: 0.0771 - val_acc: 0.9856\n",
      "Epoch 132/150\n",
      "60000/60000 [==============================] - 70s 1ms/sample - loss: 0.0182 - acc: 0.9947 - val_loss: 0.0916 - val_acc: 0.9856\n",
      "Epoch 133/150\n",
      "60000/60000 [==============================] - 71s 1ms/sample - loss: 0.0182 - acc: 0.9945 - val_loss: 0.0893 - val_acc: 0.9850\n",
      "Epoch 134/150\n",
      "60000/60000 [==============================] - 67s 1ms/sample - loss: 0.0179 - acc: 0.9947 - val_loss: 0.0909 - val_acc: 0.9858\n",
      "Epoch 135/150\n",
      "60000/60000 [==============================] - 71s 1ms/sample - loss: 0.0173 - acc: 0.9950 - val_loss: 0.0954 - val_acc: 0.9834\n",
      "Epoch 136/150\n",
      "60000/60000 [==============================] - 74s 1ms/sample - loss: 0.0176 - acc: 0.9949 - val_loss: 0.0912 - val_acc: 0.9846\n",
      "Epoch 137/150\n",
      "60000/60000 [==============================] - 73s 1ms/sample - loss: 0.0174 - acc: 0.9948 - val_loss: 0.0871 - val_acc: 0.9854\n",
      "Epoch 138/150\n",
      "60000/60000 [==============================] - 4675s 78ms/sample - loss: 0.0175 - acc: 0.9947 - val_loss: 0.0988 - val_acc: 0.9844\n",
      "Epoch 139/150\n",
      "60000/60000 [==============================] - 41s 675us/sample - loss: 0.0179 - acc: 0.9949 - val_loss: 0.0950 - val_acc: 0.9832\n",
      "Epoch 140/150\n",
      "60000/60000 [==============================] - 36s 592us/sample - loss: 0.0177 - acc: 0.9949 - val_loss: 0.0887 - val_acc: 0.9852\n",
      "Epoch 141/150\n",
      "60000/60000 [==============================] - 29s 481us/sample - loss: 0.0173 - acc: 0.9947 - val_loss: 0.1019 - val_acc: 0.9844\n",
      "Epoch 142/150\n",
      "60000/60000 [==============================] - 33s 556us/sample - loss: 0.0179 - acc: 0.9948 - val_loss: 0.0874 - val_acc: 0.9860\n",
      "Epoch 143/150\n",
      "60000/60000 [==============================] - 29s 482us/sample - loss: 0.0179 - acc: 0.9948 - val_loss: 0.0943 - val_acc: 0.9862\n",
      "Epoch 144/150\n",
      "60000/60000 [==============================] - 29s 487us/sample - loss: 0.0172 - acc: 0.9951 - val_loss: 0.0934 - val_acc: 0.9840\n",
      "Epoch 145/150\n",
      "60000/60000 [==============================] - 29s 484us/sample - loss: 0.0169 - acc: 0.9952 - val_loss: 0.1274 - val_acc: 0.9796\n",
      "Epoch 146/150\n",
      "60000/60000 [==============================] - 29s 489us/sample - loss: 0.0170 - acc: 0.9949 - val_loss: 0.1033 - val_acc: 0.9852\n",
      "Epoch 147/150\n",
      "60000/60000 [==============================] - 29s 489us/sample - loss: 0.0169 - acc: 0.9950 - val_loss: 0.0989 - val_acc: 0.9856\n",
      "Epoch 148/150\n",
      "60000/60000 [==============================] - 29s 484us/sample - loss: 0.0169 - acc: 0.9950 - val_loss: 0.0986 - val_acc: 0.9850\n",
      "Epoch 149/150\n",
      "60000/60000 [==============================] - 30s 507us/sample - loss: 0.0165 - acc: 0.9949 - val_loss: 0.0974 - val_acc: 0.9866\n",
      "Epoch 150/150\n",
      "60000/60000 [==============================] - 29s 488us/sample - loss: 0.0170 - acc: 0.9951 - val_loss: 0.0936 - val_acc: 0.9834\n"
     ]
    }
   ],
   "source": [
    "history = cnnmodel.fit(x_train, y_train,\n",
    "                       batch_size=batch_size, \n",
    "                       epochs=3*epochs,\n",
    "                       verbose=1,\n",
    "                       validation_data=(x_test, y_test))"
   ]
  },
  {
   "cell_type": "code",
   "execution_count": 46,
   "metadata": {},
   "outputs": [
    {
     "data": {
      "image/png": "[encoded data removed]",
      "text/plain": [
       "<Figure size 1080x360 with 2 Axes>"
      ]
     },
     "metadata": {
      "needs_background": "light"
     },
     "output_type": "display_data"
    }
   ],
   "source": [
    "histplot(history)"
   ]
  },
  {
   "cell_type": "markdown",
   "metadata": {},
   "source": [
    "## Data augmentation\n",
    "\n",
    "Data augmentation is a technique to artificially create new training data from existing training data by rotating, obscuring or other transformations in the original data. "
   ]
  },
  {
   "cell_type": "code",
   "execution_count": 47,
   "metadata": {},
   "outputs": [],
   "source": [
    "from tensorflow.keras.preprocessing.image import ImageDataGenerator\n",
    "\n",
    "datagen = ImageDataGenerator(\n",
    "    rotation_range=10,\n",
    "    width_shift_range=0.05,\n",
    "    height_shift_range=0.05,\n",
    "    shear_range=20.0,\n",
    "    zoom_range=0.05)\n",
    "\n",
    "#datagen.fit(x_train)  # only required if normalizing"
   ]
  },
  {
   "cell_type": "code",
   "execution_count": 48,
   "metadata": {},
   "outputs": [],
   "source": [
    "gen = datagen.flow(x_train, y_train, batch_size=1)"
   ]
  },
  {
   "cell_type": "code",
   "execution_count": 49,
   "metadata": {},
   "outputs": [
    {
     "name": "stdout",
     "output_type": "stream",
     "text": [
      "label = 3\n"
     ]
    },
    {
     "data": {
      "image/png": "[encoded data removed]",
      "text/plain": [
       "<Figure size 432x288 with 5 Axes>"
      ]
     },
     "metadata": {
      "needs_background": "light"
     },
     "output_type": "display_data"
    }
   ],
   "source": [
    "# run this several times to see more augmented examples\n",
    "i = 3\n",
    "fig, axarr = plt.subplots(1, 5)\n",
    "for ax in axarr:\n",
    "    img = gen[i][0][0, : , :, 0]\n",
    "    ax.imshow(img, cmap='gray');\n",
    "    ax.axis('off')\n",
    "print('label =', gen[i][1][0].argmax())"
   ]
  },
  {
   "cell_type": "code",
   "execution_count": 50,
   "metadata": {},
   "outputs": [
    {
     "data": {
      "text/plain": [
       "<tensorflow.python.training.tracking.util.CheckpointLoadStatus at 0x1a514afa50>"
      ]
     },
     "execution_count": 50,
     "metadata": {},
     "output_type": "execute_result"
    }
   ],
   "source": [
    "# Reinitialise model\n",
    "cnnmodel.load_weights('/tmp/cnnmodel_init_weights.tf')"
   ]
  },
  {
   "cell_type": "code",
   "execution_count": 51,
   "metadata": {},
   "outputs": [],
   "source": [
    "cnnmodel.compile(loss='categorical_crossentropy',\n",
    "                 optimizer=RMSprop(),\n",
    "                 metrics=['accuracy'])"
   ]
  },
  {
   "cell_type": "code",
   "execution_count": 52,
   "metadata": {},
   "outputs": [
    {
     "name": "stdout",
     "output_type": "stream",
     "text": [
      "Epoch 1/500\n",
      "1875/1875 [==============================] - 113s 60ms/step - loss: 0.5836 - acc: 0.8212 - val_loss: 0.1226 - val_acc: 0.9644\n",
      "Epoch 2/500\n",
      "1875/1875 [==============================] - 142s 76ms/step - loss: 0.2315 - acc: 0.9279 - val_loss: 0.0832 - val_acc: 0.9734\n",
      "Epoch 3/500\n",
      "1875/1875 [==============================] - 142s 76ms/step - loss: 0.1837 - acc: 0.9432 - val_loss: 0.0738 - val_acc: 0.9756\n",
      "Epoch 4/500\n",
      "1875/1875 [==============================] - 151s 81ms/step - loss: 0.1563 - acc: 0.9524 - val_loss: 0.0656 - val_acc: 0.9776\n",
      "Epoch 5/500\n",
      "1875/1875 [==============================] - 191s 102ms/step - loss: 0.1397 - acc: 0.9573 - val_loss: 0.0481 - val_acc: 0.9836\n",
      "Epoch 6/500\n",
      "1875/1875 [==============================] - 11340s 6s/step - loss: 0.1311 - acc: 0.9590 - val_loss: 0.0516 - val_acc: 0.9818\n",
      "Epoch 7/500\n",
      "1875/1875 [==============================] - 74s 40ms/step - loss: 0.1225 - acc: 0.9629 - val_loss: 0.0523 - val_acc: 0.9832\n",
      "Epoch 8/500\n",
      "1875/1875 [==============================] - 25s 13ms/step - loss: 0.1170 - acc: 0.9643 - val_loss: 0.0447 - val_acc: 0.9858\n",
      "Epoch 9/500\n",
      "1875/1875 [==============================] - 25s 13ms/step - loss: 0.1121 - acc: 0.9654 - val_loss: 0.0524 - val_acc: 0.9814\n",
      "Epoch 10/500\n",
      "1875/1875 [==============================] - 24s 13ms/step - loss: 0.1056 - acc: 0.9665 - val_loss: 0.0479 - val_acc: 0.9836\n",
      "Epoch 11/500\n",
      "1875/1875 [==============================] - 24s 13ms/step - loss: 0.1057 - acc: 0.9679 - val_loss: 0.0448 - val_acc: 0.9840\n",
      "Epoch 12/500\n",
      "1875/1875 [==============================] - 24s 13ms/step - loss: 0.1017 - acc: 0.9686 - val_loss: 0.0528 - val_acc: 0.9814\n",
      "Epoch 13/500\n",
      "1875/1875 [==============================] - 27s 15ms/step - loss: 0.0998 - acc: 0.9702 - val_loss: 0.0433 - val_acc: 0.9860\n",
      "Epoch 14/500\n",
      "1875/1875 [==============================] - 24s 13ms/step - loss: 0.0955 - acc: 0.9708 - val_loss: 0.0506 - val_acc: 0.9830\n",
      "Epoch 15/500\n",
      "1875/1875 [==============================] - 24s 13ms/step - loss: 0.0952 - acc: 0.9704 - val_loss: 0.0392 - val_acc: 0.9868\n",
      "Epoch 16/500\n",
      "1875/1875 [==============================] - 24s 13ms/step - loss: 0.0923 - acc: 0.9721 - val_loss: 0.0450 - val_acc: 0.9846\n",
      "Epoch 17/500\n",
      "1875/1875 [==============================] - 27s 14ms/step - loss: 0.0929 - acc: 0.9715 - val_loss: 0.0461 - val_acc: 0.9844\n",
      "Epoch 18/500\n",
      "1875/1875 [==============================] - 25s 13ms/step - loss: 0.0878 - acc: 0.9724 - val_loss: 0.0466 - val_acc: 0.9846\n",
      "Epoch 19/500\n",
      "1875/1875 [==============================] - 23s 12ms/step - loss: 0.0872 - acc: 0.9735 - val_loss: 0.0457 - val_acc: 0.9844\n",
      "Epoch 20/500\n",
      "1875/1875 [==============================] - 23s 13ms/step - loss: 0.0874 - acc: 0.9730 - val_loss: 0.0349 - val_acc: 0.9880\n",
      "Epoch 21/500\n",
      "1875/1875 [==============================] - 24s 13ms/step - loss: 0.0860 - acc: 0.9735 - val_loss: 0.0409 - val_acc: 0.9864\n",
      "Epoch 22/500\n",
      "1875/1875 [==============================] - 23s 12ms/step - loss: 0.0857 - acc: 0.9736 - val_loss: 0.0502 - val_acc: 0.9850\n",
      "Epoch 23/500\n",
      "1875/1875 [==============================] - 25s 13ms/step - loss: 0.0839 - acc: 0.9745 - val_loss: 0.0580 - val_acc: 0.9826\n",
      "Epoch 24/500\n",
      "1875/1875 [==============================] - 29s 15ms/step - loss: 0.0831 - acc: 0.9744 - val_loss: 0.0384 - val_acc: 0.9866\n",
      "Epoch 25/500\n",
      "1875/1875 [==============================] - 25s 13ms/step - loss: 0.0829 - acc: 0.9745 - val_loss: 0.0457 - val_acc: 0.9856\n",
      "Epoch 26/500\n",
      "1875/1875 [==============================] - 23s 12ms/step - loss: 0.0814 - acc: 0.9754 - val_loss: 0.0446 - val_acc: 0.9864\n",
      "Epoch 27/500\n",
      "1875/1875 [==============================] - 24s 13ms/step - loss: 0.0807 - acc: 0.9748 - val_loss: 0.0402 - val_acc: 0.9876\n",
      "Epoch 28/500\n",
      "1875/1875 [==============================] - 26s 14ms/step - loss: 0.0794 - acc: 0.9749 - val_loss: 0.0642 - val_acc: 0.9814\n",
      "Epoch 29/500\n",
      "1875/1875 [==============================] - 2s 1ms/step - loss: 0.0791 - acc: 0.9756 - val_loss: 0.0609 - val_acc: 0.9820\n",
      "Epoch 30/500\n",
      "1875/1875 [==============================] - 2137s 1s/step - loss: 0.0776 - acc: 0.9760 - val_loss: 0.0460 - val_acc: 0.9854\n",
      "Epoch 31/500\n",
      "1875/1875 [==============================] - 72s 39ms/step - loss: 0.0800 - acc: 0.9759 - val_loss: 0.0510 - val_acc: 0.9848\n",
      "Epoch 32/500\n",
      "1875/1875 [==============================] - 59s 32ms/step - loss: 0.0762 - acc: 0.9768 - val_loss: 0.0524 - val_acc: 0.9848\n",
      "Epoch 33/500\n",
      "1875/1875 [==============================] - 60s 32ms/step - loss: 0.0765 - acc: 0.9766 - val_loss: 0.0425 - val_acc: 0.9862\n",
      "Epoch 34/500\n",
      "1875/1875 [==============================] - 60s 32ms/step - loss: 0.0784 - acc: 0.9760 - val_loss: 0.0486 - val_acc: 0.9854\n",
      "Epoch 35/500\n",
      "1875/1875 [==============================] - 65s 35ms/step - loss: 0.0740 - acc: 0.9769 - val_loss: 0.0372 - val_acc: 0.9878\n",
      "Epoch 36/500\n",
      "1875/1875 [==============================] - 30s 16ms/step - loss: 0.0742 - acc: 0.9768 - val_loss: 0.0440 - val_acc: 0.9864\n",
      "Epoch 37/500\n",
      "1875/1875 [==============================] - 30s 16ms/step - loss: 0.0751 - acc: 0.9769 - val_loss: 0.0576 - val_acc: 0.9814\n",
      "Epoch 38/500\n",
      "1875/1875 [==============================] - 25s 13ms/step - loss: 0.0719 - acc: 0.9773 - val_loss: 0.0578 - val_acc: 0.9826\n",
      "Epoch 39/500\n",
      "1875/1875 [==============================] - 28s 15ms/step - loss: 0.0732 - acc: 0.9779 - val_loss: 0.0466 - val_acc: 0.9858\n",
      "Epoch 40/500\n",
      "1875/1875 [==============================] - 30s 16ms/step - loss: 0.0717 - acc: 0.9785 - val_loss: 0.0358 - val_acc: 0.9878\n",
      "Epoch 41/500\n",
      "1875/1875 [==============================] - 29s 15ms/step - loss: 0.0726 - acc: 0.9779 - val_loss: 0.0488 - val_acc: 0.9848\n",
      "Epoch 42/500\n",
      "1875/1875 [==============================] - 28s 15ms/step - loss: 0.0697 - acc: 0.9789 - val_loss: 0.0426 - val_acc: 0.9854\n",
      "Epoch 43/500\n",
      "1875/1875 [==============================] - 26s 14ms/step - loss: 0.0722 - acc: 0.9782 - val_loss: 0.0463 - val_acc: 0.9842\n",
      "Epoch 44/500\n",
      "1875/1875 [==============================] - 28s 15ms/step - loss: 0.0693 - acc: 0.9790 - val_loss: 0.0473 - val_acc: 0.9842\n",
      "Epoch 45/500\n",
      "1875/1875 [==============================] - 28s 15ms/step - loss: 0.0695 - acc: 0.9778 - val_loss: 0.0520 - val_acc: 0.9844\n",
      "Epoch 46/500\n",
      "1875/1875 [==============================] - 28s 15ms/step - loss: 0.0690 - acc: 0.9787 - val_loss: 0.0408 - val_acc: 0.9870\n",
      "Epoch 47/500\n",
      "1875/1875 [==============================] - 26s 14ms/step - loss: 0.0680 - acc: 0.9785 - val_loss: 0.0428 - val_acc: 0.9862\n",
      "Epoch 48/500\n",
      "1875/1875 [==============================] - 27s 14ms/step - loss: 0.0710 - acc: 0.9788 - val_loss: 0.0378 - val_acc: 0.9866\n",
      "Epoch 49/500\n",
      "1875/1875 [==============================] - 25s 13ms/step - loss: 0.0729 - acc: 0.9778 - val_loss: 0.0350 - val_acc: 0.9872\n",
      "Epoch 50/500\n",
      "1875/1875 [==============================] - 31s 16ms/step - loss: 0.0675 - acc: 0.9797 - val_loss: 0.0348 - val_acc: 0.9876\n",
      "Epoch 51/500\n",
      "1875/1875 [==============================] - 29s 16ms/step - loss: 0.0712 - acc: 0.9787 - val_loss: 0.0267 - val_acc: 0.9898\n",
      "Epoch 52/500\n",
      "1875/1875 [==============================] - 26s 14ms/step - loss: 0.0713 - acc: 0.9782 - val_loss: 0.0333 - val_acc: 0.9876\n",
      "Epoch 53/500\n",
      "1875/1875 [==============================] - 27s 14ms/step - loss: 0.0687 - acc: 0.9793 - val_loss: 0.0398 - val_acc: 0.9866\n",
      "Epoch 54/500\n",
      "1875/1875 [==============================] - 28s 15ms/step - loss: 0.0711 - acc: 0.9779 - val_loss: 0.0340 - val_acc: 0.9882\n",
      "Epoch 55/500\n",
      "1875/1875 [==============================] - 28s 15ms/step - loss: 0.0675 - acc: 0.9792 - val_loss: 0.0503 - val_acc: 0.9830\n",
      "Epoch 56/500\n",
      "1875/1875 [==============================] - 29s 16ms/step - loss: 0.0660 - acc: 0.9795 - val_loss: 0.0336 - val_acc: 0.9884\n",
      "Epoch 57/500\n",
      "1875/1875 [==============================] - 25s 14ms/step - loss: 0.0708 - acc: 0.9785 - val_loss: 0.0358 - val_acc: 0.9874\n",
      "Epoch 58/500\n",
      "1875/1875 [==============================] - 24s 13ms/step - loss: 0.0666 - acc: 0.9789 - val_loss: 0.0402 - val_acc: 0.9860\n",
      "Epoch 59/500\n",
      "1875/1875 [==============================] - 24s 13ms/step - loss: 0.0675 - acc: 0.9790 - val_loss: 0.0377 - val_acc: 0.9868\n",
      "Epoch 60/500\n"
     ]
    },
    {
     "name": "stdout",
     "output_type": "stream",
     "text": [
      "1875/1875 [==============================] - 23s 12ms/step - loss: 0.0681 - acc: 0.9790 - val_loss: 0.0354 - val_acc: 0.9872\n",
      "Epoch 61/500\n",
      "1875/1875 [==============================] - 23s 13ms/step - loss: 0.0672 - acc: 0.9799 - val_loss: 0.0406 - val_acc: 0.9854\n",
      "Epoch 62/500\n",
      "1875/1875 [==============================] - 23s 12ms/step - loss: 0.0687 - acc: 0.9792 - val_loss: 0.0433 - val_acc: 0.9848\n",
      "Epoch 63/500\n",
      "1875/1875 [==============================] - 23s 12ms/step - loss: 0.0669 - acc: 0.9795 - val_loss: 0.0357 - val_acc: 0.9878\n",
      "Epoch 64/500\n",
      "1875/1875 [==============================] - 22s 12ms/step - loss: 0.0669 - acc: 0.9801 - val_loss: 0.0324 - val_acc: 0.9892\n",
      "Epoch 65/500\n",
      "1875/1875 [==============================] - 23s 12ms/step - loss: 0.0689 - acc: 0.9789 - val_loss: 0.0525 - val_acc: 0.9850\n",
      "Epoch 66/500\n",
      "1875/1875 [==============================] - 22s 12ms/step - loss: 0.0667 - acc: 0.9793 - val_loss: 0.0367 - val_acc: 0.9864\n",
      "Epoch 67/500\n",
      "1875/1875 [==============================] - 24s 13ms/step - loss: 0.0658 - acc: 0.9800 - val_loss: 0.0512 - val_acc: 0.9842\n",
      "Epoch 68/500\n",
      "1875/1875 [==============================] - 23s 12ms/step - loss: 0.0684 - acc: 0.9793 - val_loss: 0.0394 - val_acc: 0.9856\n",
      "Epoch 69/500\n",
      "1875/1875 [==============================] - 30s 16ms/step - loss: 0.0674 - acc: 0.9797 - val_loss: 0.0471 - val_acc: 0.9846\n",
      "Epoch 70/500\n",
      "1875/1875 [==============================] - 27s 14ms/step - loss: 0.0669 - acc: 0.9797 - val_loss: 0.0429 - val_acc: 0.9866\n",
      "Epoch 71/500\n",
      "1875/1875 [==============================] - 32s 17ms/step - loss: 0.0657 - acc: 0.9799 - val_loss: 0.0392 - val_acc: 0.9878\n",
      "Epoch 72/500\n",
      "1875/1875 [==============================] - 29s 16ms/step - loss: 0.0661 - acc: 0.9804 - val_loss: 0.0467 - val_acc: 0.9854\n",
      "Epoch 73/500\n",
      "1875/1875 [==============================] - 28s 15ms/step - loss: 0.0637 - acc: 0.9799 - val_loss: 0.0354 - val_acc: 0.9868\n",
      "Epoch 74/500\n",
      "1875/1875 [==============================] - 35s 18ms/step - loss: 0.0654 - acc: 0.9802 - val_loss: 0.0521 - val_acc: 0.9830\n",
      "Epoch 75/500\n",
      "1875/1875 [==============================] - 25s 13ms/step - loss: 0.0665 - acc: 0.9800 - val_loss: 0.0359 - val_acc: 0.9866\n",
      "Epoch 76/500\n",
      "1875/1875 [==============================] - 22s 12ms/step - loss: 0.0654 - acc: 0.9798 - val_loss: 0.0425 - val_acc: 0.9846\n",
      "Epoch 77/500\n",
      "1875/1875 [==============================] - 26s 14ms/step - loss: 0.0665 - acc: 0.9803 - val_loss: 0.0374 - val_acc: 0.9870\n",
      "Epoch 78/500\n",
      "1875/1875 [==============================] - 25s 13ms/step - loss: 0.0686 - acc: 0.9793 - val_loss: 0.0310 - val_acc: 0.9896\n",
      "Epoch 79/500\n",
      "1875/1875 [==============================] - 21s 11ms/step - loss: 0.0678 - acc: 0.9793 - val_loss: 0.0377 - val_acc: 0.9876\n",
      "Epoch 80/500\n",
      "1875/1875 [==============================] - 22s 12ms/step - loss: 0.0639 - acc: 0.9805 - val_loss: 0.0331 - val_acc: 0.9892\n",
      "Epoch 81/500\n",
      "1875/1875 [==============================] - 24s 13ms/step - loss: 0.0655 - acc: 0.9804 - val_loss: 0.0396 - val_acc: 0.9872\n",
      "Epoch 82/500\n",
      "1875/1875 [==============================] - 22s 12ms/step - loss: 0.0651 - acc: 0.9798 - val_loss: 0.0504 - val_acc: 0.9850\n",
      "Epoch 83/500\n",
      "1875/1875 [==============================] - 22s 12ms/step - loss: 0.0668 - acc: 0.9803 - val_loss: 0.0350 - val_acc: 0.9888\n",
      "Epoch 84/500\n",
      "1875/1875 [==============================] - 22s 12ms/step - loss: 0.0650 - acc: 0.9804 - val_loss: 0.0330 - val_acc: 0.9896\n",
      "Epoch 85/500\n",
      "1875/1875 [==============================] - 23s 12ms/step - loss: 0.0671 - acc: 0.9800 - val_loss: 0.0470 - val_acc: 0.9856\n",
      "Epoch 86/500\n",
      "1875/1875 [==============================] - 22s 12ms/step - loss: 0.0655 - acc: 0.9808 - val_loss: 0.0380 - val_acc: 0.9868\n",
      "Epoch 87/500\n",
      "1875/1875 [==============================] - 22s 12ms/step - loss: 0.0637 - acc: 0.9802 - val_loss: 0.0385 - val_acc: 0.9872\n",
      "Epoch 88/500\n",
      "1875/1875 [==============================] - 22s 12ms/step - loss: 0.0669 - acc: 0.9798 - val_loss: 0.0636 - val_acc: 0.9782\n",
      "Epoch 89/500\n",
      "1875/1875 [==============================] - 23s 12ms/step - loss: 0.0652 - acc: 0.9798 - val_loss: 0.0389 - val_acc: 0.9876\n",
      "Epoch 90/500\n",
      "1875/1875 [==============================] - 27s 14ms/step - loss: 0.0675 - acc: 0.9791 - val_loss: 0.0496 - val_acc: 0.9844\n",
      "Epoch 91/500\n",
      "1875/1875 [==============================] - 22s 12ms/step - loss: 0.0660 - acc: 0.9799 - val_loss: 0.0425 - val_acc: 0.9860\n",
      "Epoch 92/500\n",
      "1875/1875 [==============================] - 27s 14ms/step - loss: 0.0651 - acc: 0.9805 - val_loss: 0.0360 - val_acc: 0.9882\n",
      "Epoch 93/500\n",
      "1875/1875 [==============================] - 24s 13ms/step - loss: 0.0639 - acc: 0.9808 - val_loss: 0.0376 - val_acc: 0.9868\n",
      "Epoch 94/500\n",
      "1875/1875 [==============================] - 28s 15ms/step - loss: 0.0657 - acc: 0.9797 - val_loss: 0.0355 - val_acc: 0.9880\n",
      "Epoch 95/500\n",
      "1875/1875 [==============================] - 24s 13ms/step - loss: 0.0641 - acc: 0.9801 - val_loss: 0.0335 - val_acc: 0.9882\n",
      "Epoch 96/500\n",
      "1875/1875 [==============================] - 25s 13ms/step - loss: 0.0659 - acc: 0.9806 - val_loss: 0.0350 - val_acc: 0.9888\n",
      "Epoch 97/500\n",
      "1875/1875 [==============================] - 24s 13ms/step - loss: 0.0652 - acc: 0.9801 - val_loss: 0.0387 - val_acc: 0.9860\n",
      "Epoch 98/500\n",
      "1875/1875 [==============================] - 24s 13ms/step - loss: 0.0658 - acc: 0.9798 - val_loss: 0.0381 - val_acc: 0.9860\n",
      "Epoch 99/500\n",
      "1875/1875 [==============================] - 23s 12ms/step - loss: 0.0650 - acc: 0.9801 - val_loss: 0.0475 - val_acc: 0.9836\n",
      "Epoch 100/500\n",
      "1875/1875 [==============================] - 23s 12ms/step - loss: 0.0648 - acc: 0.9800 - val_loss: 0.0362 - val_acc: 0.9874\n",
      "Epoch 101/500\n",
      "1875/1875 [==============================] - 25s 13ms/step - loss: 0.0656 - acc: 0.9803 - val_loss: 0.0315 - val_acc: 0.9888\n",
      "Epoch 102/500\n",
      "1875/1875 [==============================] - 24s 13ms/step - loss: 0.0640 - acc: 0.9804 - val_loss: 0.0403 - val_acc: 0.9858\n",
      "Epoch 103/500\n",
      "1875/1875 [==============================] - 23s 13ms/step - loss: 0.0623 - acc: 0.9809 - val_loss: 0.0489 - val_acc: 0.9850\n",
      "Epoch 104/500\n",
      "1875/1875 [==============================] - 24s 13ms/step - loss: 0.0644 - acc: 0.9808 - val_loss: 0.0347 - val_acc: 0.9888\n",
      "Epoch 105/500\n",
      "1875/1875 [==============================] - 30s 16ms/step - loss: 0.0656 - acc: 0.9804 - val_loss: 0.0434 - val_acc: 0.9848\n",
      "Epoch 106/500\n",
      "1875/1875 [==============================] - 25s 13ms/step - loss: 0.0630 - acc: 0.9809 - val_loss: 0.0292 - val_acc: 0.9900\n",
      "Epoch 107/500\n",
      "1875/1875 [==============================] - 29s 15ms/step - loss: 0.0659 - acc: 0.9797 - val_loss: 0.0443 - val_acc: 0.9856\n",
      "Epoch 108/500\n",
      "1875/1875 [==============================] - 23s 12ms/step - loss: 0.0658 - acc: 0.9799 - val_loss: 0.0385 - val_acc: 0.9868\n",
      "Epoch 109/500\n",
      "1875/1875 [==============================] - 24s 13ms/step - loss: 0.0651 - acc: 0.9804 - val_loss: 0.0331 - val_acc: 0.9890\n",
      "Epoch 110/500\n",
      "1875/1875 [==============================] - 23s 12ms/step - loss: 0.0641 - acc: 0.9804 - val_loss: 0.0362 - val_acc: 0.9880\n",
      "Epoch 111/500\n",
      "1875/1875 [==============================] - 5998s 3s/step - loss: 0.0632 - acc: 0.9806 - val_loss: 0.0430 - val_acc: 0.9848\n",
      "Epoch 112/500\n",
      "1875/1875 [==============================] - 42s 22ms/step - loss: 0.0677 - acc: 0.9796 - val_loss: 0.0353 - val_acc: 0.9878\n",
      "Epoch 113/500\n",
      "1875/1875 [==============================] - 38s 20ms/step - loss: 0.0641 - acc: 0.9799 - val_loss: 0.0396 - val_acc: 0.9858\n",
      "Epoch 114/500\n",
      "1875/1875 [==============================] - 31s 17ms/step - loss: 0.0650 - acc: 0.9799 - val_loss: 0.0374 - val_acc: 0.9872\n",
      "Epoch 115/500\n",
      "1875/1875 [==============================] - 32s 17ms/step - loss: 0.0669 - acc: 0.9803 - val_loss: 0.0388 - val_acc: 0.9858\n",
      "Epoch 116/500\n",
      "1875/1875 [==============================] - 33s 18ms/step - loss: 0.0659 - acc: 0.9806 - val_loss: 0.0390 - val_acc: 0.9878\n",
      "Epoch 117/500\n",
      "1875/1875 [==============================] - 35s 18ms/step - loss: 0.0652 - acc: 0.9795 - val_loss: 0.0277 - val_acc: 0.9900\n",
      "Epoch 118/500\n",
      "1875/1875 [==============================] - 33s 18ms/step - loss: 0.0644 - acc: 0.9802 - val_loss: 0.0330 - val_acc: 0.9880\n",
      "Epoch 119/500\n"
     ]
    },
    {
     "name": "stdout",
     "output_type": "stream",
     "text": [
      "1875/1875 [==============================] - 30s 16ms/step - loss: 0.0645 - acc: 0.9801 - val_loss: 0.0452 - val_acc: 0.9868\n",
      "Epoch 120/500\n",
      "1875/1875 [==============================] - 32s 17ms/step - loss: 0.0646 - acc: 0.9801 - val_loss: 0.0430 - val_acc: 0.9866\n",
      "Epoch 121/500\n",
      "1875/1875 [==============================] - 39s 21ms/step - loss: 0.0652 - acc: 0.9802 - val_loss: 0.0423 - val_acc: 0.9850\n",
      "Epoch 122/500\n",
      "1875/1875 [==============================] - 41s 22ms/step - loss: 0.0648 - acc: 0.9803 - val_loss: 0.0376 - val_acc: 0.9878\n",
      "Epoch 123/500\n",
      "1875/1875 [==============================] - 31s 16ms/step - loss: 0.0649 - acc: 0.9802 - val_loss: 0.0367 - val_acc: 0.9884\n",
      "Epoch 124/500\n",
      "1875/1875 [==============================] - 34s 18ms/step - loss: 0.0670 - acc: 0.9801 - val_loss: 0.0364 - val_acc: 0.9874\n",
      "Epoch 125/500\n",
      "1875/1875 [==============================] - 30s 16ms/step - loss: 0.0642 - acc: 0.9809 - val_loss: 0.0371 - val_acc: 0.9876\n",
      "Epoch 126/500\n",
      "1875/1875 [==============================] - 32s 17ms/step - loss: 0.0659 - acc: 0.9808 - val_loss: 0.0372 - val_acc: 0.9872\n",
      "Epoch 127/500\n",
      "1875/1875 [==============================] - 33s 18ms/step - loss: 0.0666 - acc: 0.9800 - val_loss: 0.0394 - val_acc: 0.9870\n",
      "Epoch 128/500\n",
      "1875/1875 [==============================] - 37s 20ms/step - loss: 0.0655 - acc: 0.9800 - val_loss: 0.0391 - val_acc: 0.9870\n",
      "Epoch 129/500\n",
      "1875/1875 [==============================] - 31s 16ms/step - loss: 0.0648 - acc: 0.9801 - val_loss: 0.0562 - val_acc: 0.9814\n",
      "Epoch 130/500\n",
      "1875/1875 [==============================] - 29s 15ms/step - loss: 0.0669 - acc: 0.9805 - val_loss: 0.0553 - val_acc: 0.9842\n",
      "Epoch 131/500\n",
      "1875/1875 [==============================] - 33s 18ms/step - loss: 0.0668 - acc: 0.9802 - val_loss: 0.0497 - val_acc: 0.9842\n",
      "Epoch 132/500\n",
      "1875/1875 [==============================] - 32s 17ms/step - loss: 0.0650 - acc: 0.9805 - val_loss: 0.0351 - val_acc: 0.9880\n",
      "Epoch 133/500\n",
      "1875/1875 [==============================] - 33s 17ms/step - loss: 0.0650 - acc: 0.9802 - val_loss: 0.0369 - val_acc: 0.9876\n",
      "Epoch 134/500\n",
      "1875/1875 [==============================] - 32s 17ms/step - loss: 0.0632 - acc: 0.9810 - val_loss: 0.0463 - val_acc: 0.9846\n",
      "Epoch 135/500\n",
      "1875/1875 [==============================] - 32s 17ms/step - loss: 0.0658 - acc: 0.9801 - val_loss: 0.0523 - val_acc: 0.9826\n",
      "Epoch 136/500\n",
      "1875/1875 [==============================] - 29s 16ms/step - loss: 0.0647 - acc: 0.9807 - val_loss: 0.0472 - val_acc: 0.9852\n",
      "Epoch 137/500\n",
      "1875/1875 [==============================] - 33s 17ms/step - loss: 0.0645 - acc: 0.9804 - val_loss: 0.0443 - val_acc: 0.9846\n",
      "Epoch 138/500\n",
      "1875/1875 [==============================] - 42s 23ms/step - loss: 0.0670 - acc: 0.9801 - val_loss: 0.0378 - val_acc: 0.9870\n",
      "Epoch 139/500\n",
      "1875/1875 [==============================] - 32s 17ms/step - loss: 0.0637 - acc: 0.9802 - val_loss: 0.0423 - val_acc: 0.9860\n",
      "Epoch 140/500\n",
      "1875/1875 [==============================] - 29s 16ms/step - loss: 0.0665 - acc: 0.9799 - val_loss: 0.0470 - val_acc: 0.9852\n",
      "Epoch 141/500\n",
      "1875/1875 [==============================] - 30s 16ms/step - loss: 0.0667 - acc: 0.9799 - val_loss: 0.0438 - val_acc: 0.9868\n",
      "Epoch 142/500\n",
      "1875/1875 [==============================] - 30s 16ms/step - loss: 0.0648 - acc: 0.9804 - val_loss: 0.0387 - val_acc: 0.9862\n",
      "Epoch 143/500\n",
      "1875/1875 [==============================] - 29s 15ms/step - loss: 0.0667 - acc: 0.9797 - val_loss: 0.0406 - val_acc: 0.9864\n",
      "Epoch 144/500\n",
      "1875/1875 [==============================] - 32s 17ms/step - loss: 0.0648 - acc: 0.9813 - val_loss: 0.0446 - val_acc: 0.9850\n",
      "Epoch 145/500\n",
      "1875/1875 [==============================] - 32s 17ms/step - loss: 0.0679 - acc: 0.9795 - val_loss: 0.0405 - val_acc: 0.9878\n",
      "Epoch 146/500\n",
      "1875/1875 [==============================] - 36s 19ms/step - loss: 0.0656 - acc: 0.9805 - val_loss: 0.0419 - val_acc: 0.9868\n",
      "Epoch 147/500\n",
      "1875/1875 [==============================] - 35s 18ms/step - loss: 0.0648 - acc: 0.9800 - val_loss: 0.0433 - val_acc: 0.9858\n",
      "Epoch 148/500\n",
      "1875/1875 [==============================] - 33s 18ms/step - loss: 0.0648 - acc: 0.9808 - val_loss: 0.0486 - val_acc: 0.9842\n",
      "Epoch 149/500\n",
      "1875/1875 [==============================] - 36s 19ms/step - loss: 0.0655 - acc: 0.9799 - val_loss: 0.0465 - val_acc: 0.9846\n",
      "Epoch 150/500\n",
      "1875/1875 [==============================] - 34s 18ms/step - loss: 0.0662 - acc: 0.9801 - val_loss: 0.0397 - val_acc: 0.9874\n",
      "Epoch 151/500\n",
      "1875/1875 [==============================] - 30s 16ms/step - loss: 0.0664 - acc: 0.9802 - val_loss: 0.0429 - val_acc: 0.9858\n",
      "Epoch 152/500\n",
      "1875/1875 [==============================] - 36s 19ms/step - loss: 0.0643 - acc: 0.9808 - val_loss: 0.0429 - val_acc: 0.9864\n",
      "Epoch 153/500\n",
      "1875/1875 [==============================] - 37s 20ms/step - loss: 0.0663 - acc: 0.9801 - val_loss: 0.0590 - val_acc: 0.9828\n",
      "Epoch 154/500\n",
      "1875/1875 [==============================] - 30s 16ms/step - loss: 0.0649 - acc: 0.9807 - val_loss: 0.0343 - val_acc: 0.9882\n",
      "Epoch 155/500\n",
      "1875/1875 [==============================] - 34s 18ms/step - loss: 0.0672 - acc: 0.9801 - val_loss: 0.0334 - val_acc: 0.9878\n",
      "Epoch 156/500\n",
      "1875/1875 [==============================] - 33s 18ms/step - loss: 0.0674 - acc: 0.9797 - val_loss: 0.0376 - val_acc: 0.9900\n",
      "Epoch 157/500\n",
      "1875/1875 [==============================] - 33s 17ms/step - loss: 0.0653 - acc: 0.9807 - val_loss: 0.0361 - val_acc: 0.9882\n",
      "Epoch 158/500\n",
      "1875/1875 [==============================] - 30s 16ms/step - loss: 0.0677 - acc: 0.9802 - val_loss: 0.0421 - val_acc: 0.9866\n",
      "Epoch 159/500\n",
      "1875/1875 [==============================] - 33s 17ms/step - loss: 0.0662 - acc: 0.9803 - val_loss: 0.0366 - val_acc: 0.9886\n",
      "Epoch 160/500\n",
      "1875/1875 [==============================] - 32s 17ms/step - loss: 0.0632 - acc: 0.9807 - val_loss: 0.0495 - val_acc: 0.9854\n",
      "Epoch 161/500\n",
      "1875/1875 [==============================] - 32s 17ms/step - loss: 0.0658 - acc: 0.9803 - val_loss: 0.0381 - val_acc: 0.9880\n",
      "Epoch 162/500\n",
      "1875/1875 [==============================] - 26s 14ms/step - loss: 0.0675 - acc: 0.9798 - val_loss: 0.0364 - val_acc: 0.9886\n",
      "Epoch 163/500\n",
      "1875/1875 [==============================] - 26s 14ms/step - loss: 0.0669 - acc: 0.9792 - val_loss: 0.0342 - val_acc: 0.9890\n",
      "Epoch 164/500\n",
      "1875/1875 [==============================] - 26s 14ms/step - loss: 0.0664 - acc: 0.9800 - val_loss: 0.0328 - val_acc: 0.9892\n",
      "Epoch 165/500\n",
      "1875/1875 [==============================] - 29s 15ms/step - loss: 0.0635 - acc: 0.9811 - val_loss: 0.0416 - val_acc: 0.9872\n",
      "Epoch 166/500\n",
      "1875/1875 [==============================] - 25s 13ms/step - loss: 0.0649 - acc: 0.9806 - val_loss: 0.0462 - val_acc: 0.9852\n",
      "Epoch 167/500\n",
      "1875/1875 [==============================] - 30s 16ms/step - loss: 0.0653 - acc: 0.9803 - val_loss: 0.0523 - val_acc: 0.9834\n",
      "Epoch 168/500\n",
      "1875/1875 [==============================] - 30s 16ms/step - loss: 0.0646 - acc: 0.9805 - val_loss: 0.0386 - val_acc: 0.9888\n",
      "Epoch 169/500\n",
      "1875/1875 [==============================] - 29s 16ms/step - loss: 0.0642 - acc: 0.9808 - val_loss: 0.0422 - val_acc: 0.9868\n",
      "Epoch 170/500\n",
      "1875/1875 [==============================] - 28s 15ms/step - loss: 0.0656 - acc: 0.9807 - val_loss: 0.0390 - val_acc: 0.9882\n",
      "Epoch 171/500\n",
      "1875/1875 [==============================] - 28s 15ms/step - loss: 0.0652 - acc: 0.9803 - val_loss: 0.0453 - val_acc: 0.9866\n",
      "Epoch 172/500\n",
      "1875/1875 [==============================] - 27s 14ms/step - loss: 0.0681 - acc: 0.9796 - val_loss: 0.0382 - val_acc: 0.9880\n",
      "Epoch 173/500\n",
      "1875/1875 [==============================] - 27s 14ms/step - loss: 0.0662 - acc: 0.9796 - val_loss: 0.0420 - val_acc: 0.9844\n",
      "Epoch 174/500\n",
      "1875/1875 [==============================] - 25s 14ms/step - loss: 0.0672 - acc: 0.9799 - val_loss: 0.0482 - val_acc: 0.9862\n",
      "Epoch 175/500\n",
      "1875/1875 [==============================] - 24s 13ms/step - loss: 0.0676 - acc: 0.9790 - val_loss: 0.0383 - val_acc: 0.9878\n",
      "Epoch 176/500\n",
      "1875/1875 [==============================] - 25s 13ms/step - loss: 0.0661 - acc: 0.9800 - val_loss: 0.0394 - val_acc: 0.9872\n",
      "Epoch 177/500\n",
      "1875/1875 [==============================] - 27s 15ms/step - loss: 0.0641 - acc: 0.9807 - val_loss: 0.0470 - val_acc: 0.9862\n",
      "Epoch 178/500\n"
     ]
    },
    {
     "name": "stdout",
     "output_type": "stream",
     "text": [
      "1875/1875 [==============================] - 24s 13ms/step - loss: 0.0662 - acc: 0.9795 - val_loss: 0.0437 - val_acc: 0.9870\n",
      "Epoch 179/500\n",
      "1875/1875 [==============================] - 26s 14ms/step - loss: 0.0659 - acc: 0.9804 - val_loss: 0.0428 - val_acc: 0.9866\n",
      "Epoch 180/500\n",
      "1875/1875 [==============================] - 27s 14ms/step - loss: 0.0636 - acc: 0.9811 - val_loss: 0.0544 - val_acc: 0.9842\n",
      "Epoch 181/500\n",
      "1875/1875 [==============================] - 25s 14ms/step - loss: 0.0668 - acc: 0.9801 - val_loss: 0.0350 - val_acc: 0.9892\n",
      "Epoch 182/500\n",
      "1875/1875 [==============================] - 24s 13ms/step - loss: 0.0649 - acc: 0.9806 - val_loss: 0.0382 - val_acc: 0.9880\n",
      "Epoch 183/500\n",
      "1875/1875 [==============================] - 24s 13ms/step - loss: 0.0655 - acc: 0.9808 - val_loss: 0.0485 - val_acc: 0.9842\n",
      "Epoch 184/500\n",
      "1875/1875 [==============================] - 23s 12ms/step - loss: 0.0659 - acc: 0.9789 - val_loss: 0.0482 - val_acc: 0.9850\n",
      "Epoch 185/500\n",
      "1875/1875 [==============================] - 24s 13ms/step - loss: 0.0647 - acc: 0.9804 - val_loss: 0.0430 - val_acc: 0.9890\n",
      "Epoch 186/500\n",
      "1875/1875 [==============================] - 25s 13ms/step - loss: 0.0644 - acc: 0.9801 - val_loss: 0.0463 - val_acc: 0.9870\n",
      "Epoch 187/500\n",
      "1875/1875 [==============================] - 25s 13ms/step - loss: 0.0672 - acc: 0.9799 - val_loss: 0.0416 - val_acc: 0.9872\n",
      "Epoch 188/500\n",
      "1875/1875 [==============================] - 24s 13ms/step - loss: 0.0682 - acc: 0.9798 - val_loss: 0.0352 - val_acc: 0.9890\n",
      "Epoch 189/500\n",
      "1875/1875 [==============================] - 25s 13ms/step - loss: 0.0670 - acc: 0.9796 - val_loss: 0.0448 - val_acc: 0.9866\n",
      "Epoch 190/500\n",
      "1875/1875 [==============================] - 23s 12ms/step - loss: 0.0684 - acc: 0.9795 - val_loss: 0.0531 - val_acc: 0.9848\n",
      "Epoch 191/500\n",
      "1875/1875 [==============================] - 23s 12ms/step - loss: 0.0659 - acc: 0.9804 - val_loss: 0.0376 - val_acc: 0.9890\n",
      "Epoch 192/500\n",
      "1875/1875 [==============================] - 23s 12ms/step - loss: 0.0665 - acc: 0.9801 - val_loss: 0.0532 - val_acc: 0.9828\n",
      "Epoch 193/500\n",
      "1875/1875 [==============================] - 24s 13ms/step - loss: 0.0669 - acc: 0.9797 - val_loss: 0.0448 - val_acc: 0.9874\n",
      "Epoch 194/500\n",
      "1875/1875 [==============================] - 24s 13ms/step - loss: 0.0644 - acc: 0.9812 - val_loss: 0.0541 - val_acc: 0.9842\n",
      "Epoch 195/500\n",
      "1875/1875 [==============================] - 25s 13ms/step - loss: 0.0668 - acc: 0.9798 - val_loss: 0.0438 - val_acc: 0.9864\n",
      "Epoch 196/500\n",
      "1875/1875 [==============================] - 25s 13ms/step - loss: 0.0684 - acc: 0.9796 - val_loss: 0.0474 - val_acc: 0.9866\n",
      "Epoch 197/500\n",
      "1875/1875 [==============================] - 23s 12ms/step - loss: 0.0680 - acc: 0.9799 - val_loss: 0.0413 - val_acc: 0.9868\n",
      "Epoch 198/500\n",
      "1875/1875 [==============================] - 24s 13ms/step - loss: 0.0668 - acc: 0.9795 - val_loss: 0.0423 - val_acc: 0.9882\n",
      "Epoch 199/500\n",
      "1875/1875 [==============================] - 24s 13ms/step - loss: 0.0686 - acc: 0.9797 - val_loss: 0.0410 - val_acc: 0.9868\n",
      "Epoch 200/500\n",
      "1875/1875 [==============================] - 26s 14ms/step - loss: 0.0700 - acc: 0.9792 - val_loss: 0.0460 - val_acc: 0.9856\n",
      "Epoch 201/500\n",
      "1875/1875 [==============================] - 27s 14ms/step - loss: 0.0679 - acc: 0.9800 - val_loss: 0.0488 - val_acc: 0.9860\n",
      "Epoch 202/500\n",
      "1875/1875 [==============================] - 25s 13ms/step - loss: 0.0681 - acc: 0.9806 - val_loss: 0.0385 - val_acc: 0.9892\n",
      "Epoch 203/500\n",
      "1875/1875 [==============================] - 26s 14ms/step - loss: 0.0682 - acc: 0.9794 - val_loss: 0.0463 - val_acc: 0.9876\n",
      "Epoch 204/500\n",
      "1875/1875 [==============================] - 28s 15ms/step - loss: 0.0666 - acc: 0.9799 - val_loss: 0.0552 - val_acc: 0.9844\n",
      "Epoch 205/500\n",
      "1875/1875 [==============================] - 28s 15ms/step - loss: 0.0685 - acc: 0.9800 - val_loss: 0.0451 - val_acc: 0.9862\n",
      "Epoch 206/500\n",
      "1875/1875 [==============================] - 27s 15ms/step - loss: 0.0673 - acc: 0.9796 - val_loss: 0.0430 - val_acc: 0.9876\n",
      "Epoch 207/500\n",
      "1875/1875 [==============================] - 30s 16ms/step - loss: 0.0683 - acc: 0.9793 - val_loss: 0.0427 - val_acc: 0.9886\n",
      "Epoch 208/500\n",
      "1875/1875 [==============================] - 29s 15ms/step - loss: 0.0674 - acc: 0.9795 - val_loss: 0.0473 - val_acc: 0.9862\n",
      "Epoch 209/500\n",
      "1875/1875 [==============================] - 26s 14ms/step - loss: 0.0688 - acc: 0.9792 - val_loss: 0.0414 - val_acc: 0.9880\n",
      "Epoch 210/500\n",
      "1875/1875 [==============================] - 26s 14ms/step - loss: 0.0656 - acc: 0.9802 - val_loss: 0.0469 - val_acc: 0.9888\n",
      "Epoch 211/500\n",
      "1875/1875 [==============================] - 25s 13ms/step - loss: 0.0680 - acc: 0.9797 - val_loss: 0.0461 - val_acc: 0.9860\n",
      "Epoch 212/500\n",
      "1875/1875 [==============================] - 25s 14ms/step - loss: 0.0694 - acc: 0.9793 - val_loss: 0.0372 - val_acc: 0.9886\n",
      "Epoch 213/500\n",
      "1875/1875 [==============================] - 26s 14ms/step - loss: 0.0670 - acc: 0.9795 - val_loss: 0.0499 - val_acc: 0.9862\n",
      "Epoch 214/500\n",
      "1875/1875 [==============================] - 29s 15ms/step - loss: 0.0663 - acc: 0.9806 - val_loss: 0.0476 - val_acc: 0.9850\n",
      "Epoch 215/500\n",
      "1875/1875 [==============================] - 25s 13ms/step - loss: 0.0673 - acc: 0.9798 - val_loss: 0.0362 - val_acc: 0.9894\n",
      "Epoch 216/500\n",
      "1875/1875 [==============================] - 25s 13ms/step - loss: 0.0673 - acc: 0.9796 - val_loss: 0.0448 - val_acc: 0.9874\n",
      "Epoch 217/500\n",
      "1875/1875 [==============================] - 26s 14ms/step - loss: 0.0725 - acc: 0.9794 - val_loss: 0.0438 - val_acc: 0.9862\n",
      "Epoch 218/500\n",
      "1875/1875 [==============================] - 27s 14ms/step - loss: 0.0676 - acc: 0.9799 - val_loss: 0.0443 - val_acc: 0.9866\n",
      "Epoch 219/500\n",
      "1875/1875 [==============================] - 25s 13ms/step - loss: 0.0695 - acc: 0.9796 - val_loss: 0.0469 - val_acc: 0.9872\n",
      "Epoch 220/500\n",
      "1875/1875 [==============================] - 27s 14ms/step - loss: 0.0689 - acc: 0.9790 - val_loss: 0.0398 - val_acc: 0.9864\n",
      "Epoch 221/500\n",
      "1875/1875 [==============================] - 30s 16ms/step - loss: 0.0668 - acc: 0.9801 - val_loss: 0.0476 - val_acc: 0.9870\n",
      "Epoch 222/500\n",
      "1875/1875 [==============================] - 27s 14ms/step - loss: 0.0684 - acc: 0.9791 - val_loss: 0.0501 - val_acc: 0.9842\n",
      "Epoch 223/500\n",
      "1875/1875 [==============================] - 28s 15ms/step - loss: 0.0687 - acc: 0.9794 - val_loss: 0.0421 - val_acc: 0.9876\n",
      "Epoch 224/500\n",
      "1875/1875 [==============================] - 28s 15ms/step - loss: 0.0692 - acc: 0.9794 - val_loss: 0.0464 - val_acc: 0.9866\n",
      "Epoch 225/500\n",
      "1875/1875 [==============================] - 29s 16ms/step - loss: 0.0700 - acc: 0.9789 - val_loss: 0.0406 - val_acc: 0.9888\n",
      "Epoch 226/500\n",
      "1875/1875 [==============================] - 27s 15ms/step - loss: 0.0697 - acc: 0.9790 - val_loss: 0.0449 - val_acc: 0.9868\n",
      "Epoch 227/500\n",
      "1875/1875 [==============================] - 26s 14ms/step - loss: 0.0683 - acc: 0.9793 - val_loss: 0.0439 - val_acc: 0.9884\n",
      "Epoch 228/500\n",
      "1875/1875 [==============================] - 27s 14ms/step - loss: 0.0697 - acc: 0.9794 - val_loss: 0.0442 - val_acc: 0.9868\n",
      "Epoch 229/500\n",
      "1875/1875 [==============================] - 26s 14ms/step - loss: 0.0677 - acc: 0.9801 - val_loss: 0.0418 - val_acc: 0.9884\n",
      "Epoch 230/500\n",
      "1875/1875 [==============================] - 28s 15ms/step - loss: 0.0692 - acc: 0.9798 - val_loss: 0.0453 - val_acc: 0.9878\n",
      "Epoch 231/500\n",
      "1875/1875 [==============================] - 28s 15ms/step - loss: 0.0670 - acc: 0.9800 - val_loss: 0.0628 - val_acc: 0.9824\n",
      "Epoch 232/500\n",
      "1875/1875 [==============================] - 26s 14ms/step - loss: 0.0707 - acc: 0.9790 - val_loss: 0.0522 - val_acc: 0.9862\n",
      "Epoch 233/500\n",
      "1875/1875 [==============================] - 27s 15ms/step - loss: 0.0685 - acc: 0.9794 - val_loss: 0.0462 - val_acc: 0.9870\n",
      "Epoch 234/500\n",
      "1875/1875 [==============================] - 29s 16ms/step - loss: 0.0690 - acc: 0.9788 - val_loss: 0.0438 - val_acc: 0.9888\n",
      "Epoch 235/500\n",
      "1875/1875 [==============================] - 29s 15ms/step - loss: 0.0657 - acc: 0.9800 - val_loss: 0.0503 - val_acc: 0.9866\n",
      "Epoch 236/500\n",
      "1875/1875 [==============================] - 28s 15ms/step - loss: 0.0690 - acc: 0.9796 - val_loss: 0.0438 - val_acc: 0.9864\n",
      "Epoch 237/500\n"
     ]
    },
    {
     "name": "stdout",
     "output_type": "stream",
     "text": [
      "1875/1875 [==============================] - 29s 16ms/step - loss: 0.0662 - acc: 0.9798 - val_loss: 0.0486 - val_acc: 0.9868\n",
      "Epoch 238/500\n",
      "1875/1875 [==============================] - 34s 18ms/step - loss: 0.0688 - acc: 0.9793 - val_loss: 0.0520 - val_acc: 0.9824\n",
      "Epoch 239/500\n",
      "1875/1875 [==============================] - 23s 12ms/step - loss: 0.0703 - acc: 0.9789 - val_loss: 0.0456 - val_acc: 0.9888\n",
      "Epoch 240/500\n",
      "1875/1875 [==============================] - 25s 13ms/step - loss: 0.0686 - acc: 0.9794 - val_loss: 0.0464 - val_acc: 0.9864\n",
      "Epoch 241/500\n",
      "1875/1875 [==============================] - 24s 13ms/step - loss: 0.0685 - acc: 0.9796 - val_loss: 0.0388 - val_acc: 0.9888\n",
      "Epoch 242/500\n",
      "1875/1875 [==============================] - 23s 12ms/step - loss: 0.0700 - acc: 0.9789 - val_loss: 0.0422 - val_acc: 0.9878\n",
      "Epoch 243/500\n",
      "1875/1875 [==============================] - 26s 14ms/step - loss: 0.0672 - acc: 0.9801 - val_loss: 0.0616 - val_acc: 0.9830\n",
      "Epoch 244/500\n",
      "1875/1875 [==============================] - 27s 14ms/step - loss: 0.0684 - acc: 0.9793 - val_loss: 0.0523 - val_acc: 0.9850\n",
      "Epoch 245/500\n",
      "1875/1875 [==============================] - 25s 13ms/step - loss: 0.0720 - acc: 0.9784 - val_loss: 0.0487 - val_acc: 0.9876\n",
      "Epoch 246/500\n",
      "1875/1875 [==============================] - 28s 15ms/step - loss: 0.0693 - acc: 0.9789 - val_loss: 0.0416 - val_acc: 0.9886\n",
      "Epoch 247/500\n",
      "1875/1875 [==============================] - 27s 14ms/step - loss: 0.0707 - acc: 0.9793 - val_loss: 0.0506 - val_acc: 0.9858\n",
      "Epoch 248/500\n",
      "1875/1875 [==============================] - 24s 13ms/step - loss: 0.0702 - acc: 0.9793 - val_loss: 0.0491 - val_acc: 0.9872\n",
      "Epoch 249/500\n",
      "1875/1875 [==============================] - 24s 13ms/step - loss: 0.0705 - acc: 0.9793 - val_loss: 0.0457 - val_acc: 0.9862\n",
      "Epoch 250/500\n",
      "1875/1875 [==============================] - 25s 13ms/step - loss: 0.0698 - acc: 0.9795 - val_loss: 0.0405 - val_acc: 0.9882\n",
      "Epoch 251/500\n",
      "1875/1875 [==============================] - 24s 13ms/step - loss: 0.0698 - acc: 0.9790 - val_loss: 0.0439 - val_acc: 0.9874\n",
      "Epoch 252/500\n",
      "1875/1875 [==============================] - 24s 13ms/step - loss: 0.0708 - acc: 0.9781 - val_loss: 0.0592 - val_acc: 0.9814\n",
      "Epoch 253/500\n",
      "1875/1875 [==============================] - 25s 13ms/step - loss: 0.0677 - acc: 0.9800 - val_loss: 0.0388 - val_acc: 0.9888\n",
      "Epoch 254/500\n",
      "1875/1875 [==============================] - 25s 14ms/step - loss: 0.0686 - acc: 0.9793 - val_loss: 0.0369 - val_acc: 0.9886\n",
      "Epoch 255/500\n",
      "1875/1875 [==============================] - 27s 15ms/step - loss: 0.0704 - acc: 0.9795 - val_loss: 0.0461 - val_acc: 0.9876\n",
      "Epoch 256/500\n",
      "1875/1875 [==============================] - 23s 12ms/step - loss: 0.0706 - acc: 0.9793 - val_loss: 0.0444 - val_acc: 0.9872\n",
      "Epoch 257/500\n",
      "1875/1875 [==============================] - 24s 13ms/step - loss: 0.0725 - acc: 0.9782 - val_loss: 0.0508 - val_acc: 0.9858\n",
      "Epoch 258/500\n",
      "1875/1875 [==============================] - 23s 12ms/step - loss: 0.0715 - acc: 0.9792 - val_loss: 0.0495 - val_acc: 0.9844\n",
      "Epoch 259/500\n",
      "1875/1875 [==============================] - 22s 12ms/step - loss: 0.0704 - acc: 0.9790 - val_loss: 0.0514 - val_acc: 0.9848\n",
      "Epoch 260/500\n",
      "1875/1875 [==============================] - 22s 12ms/step - loss: 0.0672 - acc: 0.9797 - val_loss: 0.0493 - val_acc: 0.9864\n",
      "Epoch 261/500\n",
      "1875/1875 [==============================] - 23s 12ms/step - loss: 0.0704 - acc: 0.9794 - val_loss: 0.0633 - val_acc: 0.9836\n",
      "Epoch 262/500\n",
      "1875/1875 [==============================] - 22s 12ms/step - loss: 0.0695 - acc: 0.9797 - val_loss: 0.0470 - val_acc: 0.9882\n",
      "Epoch 263/500\n",
      "1875/1875 [==============================] - 22s 12ms/step - loss: 0.0666 - acc: 0.9801 - val_loss: 0.0441 - val_acc: 0.9870\n",
      "Epoch 264/500\n",
      "1875/1875 [==============================] - 22s 12ms/step - loss: 0.0719 - acc: 0.9790 - val_loss: 0.0541 - val_acc: 0.9868\n",
      "Epoch 265/500\n",
      "1875/1875 [==============================] - 22s 12ms/step - loss: 0.0714 - acc: 0.9789 - val_loss: 0.0563 - val_acc: 0.9840\n",
      "Epoch 266/500\n",
      "1875/1875 [==============================] - 22s 12ms/step - loss: 0.0711 - acc: 0.9787 - val_loss: 0.0552 - val_acc: 0.9868\n",
      "Epoch 267/500\n",
      "1875/1875 [==============================] - 23s 12ms/step - loss: 0.0691 - acc: 0.9795 - val_loss: 0.0739 - val_acc: 0.9814\n",
      "Epoch 268/500\n",
      "1875/1875 [==============================] - 24s 13ms/step - loss: 0.0702 - acc: 0.9790 - val_loss: 0.0484 - val_acc: 0.9878\n",
      "Epoch 269/500\n",
      "1875/1875 [==============================] - 22s 12ms/step - loss: 0.0713 - acc: 0.9789 - val_loss: 0.0676 - val_acc: 0.9834\n",
      "Epoch 270/500\n",
      "1875/1875 [==============================] - 22s 12ms/step - loss: 0.0717 - acc: 0.9783 - val_loss: 0.0519 - val_acc: 0.9844\n",
      "Epoch 271/500\n",
      "1875/1875 [==============================] - 23s 12ms/step - loss: 0.0716 - acc: 0.9785 - val_loss: 0.0614 - val_acc: 0.9836\n",
      "Epoch 272/500\n",
      "1875/1875 [==============================] - 22s 12ms/step - loss: 0.0698 - acc: 0.9796 - val_loss: 0.0482 - val_acc: 0.9864\n",
      "Epoch 273/500\n",
      "1875/1875 [==============================] - 28s 15ms/step - loss: 0.0703 - acc: 0.9791 - val_loss: 0.0413 - val_acc: 0.9874\n",
      "Epoch 274/500\n",
      "1875/1875 [==============================] - 26s 14ms/step - loss: 0.0722 - acc: 0.9783 - val_loss: 0.0383 - val_acc: 0.9876\n",
      "Epoch 275/500\n",
      "1875/1875 [==============================] - 28s 15ms/step - loss: 0.0728 - acc: 0.9787 - val_loss: 0.0741 - val_acc: 0.9824\n",
      "Epoch 276/500\n",
      "1875/1875 [==============================] - 26s 14ms/step - loss: 0.0725 - acc: 0.9789 - val_loss: 0.0349 - val_acc: 0.9896\n",
      "Epoch 277/500\n",
      "1875/1875 [==============================] - 26s 14ms/step - loss: 0.0684 - acc: 0.9797 - val_loss: 0.0524 - val_acc: 0.9866\n",
      "Epoch 278/500\n",
      "1875/1875 [==============================] - 26s 14ms/step - loss: 0.0692 - acc: 0.9790 - val_loss: 0.0463 - val_acc: 0.9880\n",
      "Epoch 279/500\n",
      "1875/1875 [==============================] - 25s 13ms/step - loss: 0.0726 - acc: 0.9789 - val_loss: 0.0546 - val_acc: 0.9848\n",
      "Epoch 280/500\n",
      "1875/1875 [==============================] - 24s 13ms/step - loss: 0.0700 - acc: 0.9796 - val_loss: 0.0496 - val_acc: 0.9848\n",
      "Epoch 281/500\n",
      "1875/1875 [==============================] - 25s 13ms/step - loss: 0.0734 - acc: 0.9787 - val_loss: 0.0431 - val_acc: 0.9874\n",
      "Epoch 282/500\n",
      "1875/1875 [==============================] - 26s 14ms/step - loss: 0.0733 - acc: 0.9789 - val_loss: 0.0410 - val_acc: 0.9878\n",
      "Epoch 283/500\n",
      "1875/1875 [==============================] - 25s 13ms/step - loss: 0.0711 - acc: 0.9792 - val_loss: 0.0424 - val_acc: 0.9882\n",
      "Epoch 284/500\n",
      "1875/1875 [==============================] - 25s 13ms/step - loss: 0.0733 - acc: 0.9781 - val_loss: 0.0469 - val_acc: 0.9880\n",
      "Epoch 285/500\n",
      "1875/1875 [==============================] - 26s 14ms/step - loss: 0.0705 - acc: 0.9789 - val_loss: 0.0471 - val_acc: 0.9852\n",
      "Epoch 286/500\n",
      "1875/1875 [==============================] - 28s 15ms/step - loss: 0.0699 - acc: 0.9791 - val_loss: 0.0575 - val_acc: 0.9858\n",
      "Epoch 287/500\n",
      "1875/1875 [==============================] - 31s 17ms/step - loss: 0.0683 - acc: 0.9789 - val_loss: 0.0439 - val_acc: 0.9894\n",
      "Epoch 288/500\n",
      "1875/1875 [==============================] - 26s 14ms/step - loss: 0.0699 - acc: 0.9797 - val_loss: 0.0510 - val_acc: 0.9874\n",
      "Epoch 289/500\n",
      "1875/1875 [==============================] - 27s 14ms/step - loss: 0.0715 - acc: 0.9788 - val_loss: 0.0545 - val_acc: 0.9848\n",
      "Epoch 290/500\n",
      "1875/1875 [==============================] - 25s 13ms/step - loss: 0.0700 - acc: 0.9798 - val_loss: 0.0419 - val_acc: 0.9870\n",
      "Epoch 291/500\n",
      "1875/1875 [==============================] - 25s 14ms/step - loss: 0.0722 - acc: 0.9787 - val_loss: 0.0407 - val_acc: 0.9886\n",
      "Epoch 292/500\n",
      "1875/1875 [==============================] - 30s 16ms/step - loss: 0.0718 - acc: 0.9793 - val_loss: 0.0440 - val_acc: 0.9876\n",
      "Epoch 293/500\n",
      "1875/1875 [==============================] - 25s 13ms/step - loss: 0.0728 - acc: 0.9779 - val_loss: 0.0539 - val_acc: 0.9844\n",
      "Epoch 294/500\n",
      "1875/1875 [==============================] - 25s 13ms/step - loss: 0.0705 - acc: 0.9789 - val_loss: 0.0413 - val_acc: 0.9870\n",
      "Epoch 295/500\n",
      "1875/1875 [==============================] - 24s 13ms/step - loss: 0.0746 - acc: 0.9776 - val_loss: 0.0463 - val_acc: 0.9866\n",
      "Epoch 296/500\n"
     ]
    },
    {
     "name": "stdout",
     "output_type": "stream",
     "text": [
      "1875/1875 [==============================] - 23s 12ms/step - loss: 0.0682 - acc: 0.9797 - val_loss: 0.0543 - val_acc: 0.9848\n",
      "Epoch 297/500\n",
      "1875/1875 [==============================] - 23s 12ms/step - loss: 0.0702 - acc: 0.9794 - val_loss: 0.0575 - val_acc: 0.9852\n",
      "Epoch 298/500\n",
      "1875/1875 [==============================] - 24s 13ms/step - loss: 0.0717 - acc: 0.9791 - val_loss: 0.0496 - val_acc: 0.9850\n",
      "Epoch 299/500\n",
      "1875/1875 [==============================] - 24s 13ms/step - loss: 0.0737 - acc: 0.9792 - val_loss: 0.0771 - val_acc: 0.9782\n",
      "Epoch 300/500\n",
      "1875/1875 [==============================] - 24s 13ms/step - loss: 0.0726 - acc: 0.9790 - val_loss: 0.0939 - val_acc: 0.9766\n",
      "Epoch 301/500\n",
      "1875/1875 [==============================] - 25s 13ms/step - loss: 0.0732 - acc: 0.9782 - val_loss: 0.0617 - val_acc: 0.9836\n",
      "Epoch 302/500\n",
      "1875/1875 [==============================] - 24s 13ms/step - loss: 0.0720 - acc: 0.9782 - val_loss: 0.0733 - val_acc: 0.9830\n",
      "Epoch 303/500\n",
      "1875/1875 [==============================] - 24s 13ms/step - loss: 0.0725 - acc: 0.9788 - val_loss: 0.0540 - val_acc: 0.9856\n",
      "Epoch 304/500\n",
      "1875/1875 [==============================] - 24s 13ms/step - loss: 0.0697 - acc: 0.9794 - val_loss: 0.0526 - val_acc: 0.9850\n",
      "Epoch 305/500\n",
      "1875/1875 [==============================] - 24s 13ms/step - loss: 0.0723 - acc: 0.9794 - val_loss: 0.0458 - val_acc: 0.9864\n",
      "Epoch 306/500\n",
      "1875/1875 [==============================] - 25s 13ms/step - loss: 0.0730 - acc: 0.9780 - val_loss: 0.0580 - val_acc: 0.9828\n",
      "Epoch 307/500\n",
      "1875/1875 [==============================] - 24s 13ms/step - loss: 0.0716 - acc: 0.9794 - val_loss: 0.0838 - val_acc: 0.9796\n",
      "Epoch 308/500\n",
      "1875/1875 [==============================] - 25s 13ms/step - loss: 0.0705 - acc: 0.9790 - val_loss: 0.0521 - val_acc: 0.9864\n",
      "Epoch 309/500\n",
      "1875/1875 [==============================] - 25s 13ms/step - loss: 0.0728 - acc: 0.9781 - val_loss: 0.0402 - val_acc: 0.9886\n",
      "Epoch 310/500\n",
      "1875/1875 [==============================] - 24s 13ms/step - loss: 0.0698 - acc: 0.9798 - val_loss: 0.0514 - val_acc: 0.9876\n",
      "Epoch 311/500\n",
      "1875/1875 [==============================] - 24s 13ms/step - loss: 0.0730 - acc: 0.9791 - val_loss: 0.0529 - val_acc: 0.9864\n",
      "Epoch 312/500\n",
      "1875/1875 [==============================] - 30s 16ms/step - loss: 0.0709 - acc: 0.9785 - val_loss: 0.0507 - val_acc: 0.9862\n",
      "Epoch 313/500\n",
      "1875/1875 [==============================] - 26s 14ms/step - loss: 0.0750 - acc: 0.9782 - val_loss: 0.0403 - val_acc: 0.9880\n",
      "Epoch 314/500\n",
      "1875/1875 [==============================] - 24s 13ms/step - loss: 0.0741 - acc: 0.9783 - val_loss: 0.0490 - val_acc: 0.9858\n",
      "Epoch 315/500\n",
      "1875/1875 [==============================] - 26s 14ms/step - loss: 0.0724 - acc: 0.9780 - val_loss: 0.0539 - val_acc: 0.9848\n",
      "Epoch 316/500\n",
      "1875/1875 [==============================] - 28s 15ms/step - loss: 0.0727 - acc: 0.9789 - val_loss: 0.0681 - val_acc: 0.9800\n",
      "Epoch 317/500\n",
      "1875/1875 [==============================] - 22s 12ms/step - loss: 0.0729 - acc: 0.9786 - val_loss: 0.0547 - val_acc: 0.9858\n",
      "Epoch 318/500\n",
      "1875/1875 [==============================] - 22s 12ms/step - loss: 0.0748 - acc: 0.9783 - val_loss: 0.0476 - val_acc: 0.9854\n",
      "Epoch 319/500\n",
      "1875/1875 [==============================] - 22s 12ms/step - loss: 0.0728 - acc: 0.9786 - val_loss: 0.0420 - val_acc: 0.9876\n",
      "Epoch 320/500\n",
      "1875/1875 [==============================] - 23s 12ms/step - loss: 0.0733 - acc: 0.9783 - val_loss: 0.0523 - val_acc: 0.9860\n",
      "Epoch 321/500\n",
      "1875/1875 [==============================] - 23s 12ms/step - loss: 0.0736 - acc: 0.9786 - val_loss: 0.0400 - val_acc: 0.9888\n",
      "Epoch 322/500\n",
      "1875/1875 [==============================] - 22s 12ms/step - loss: 0.0747 - acc: 0.9777 - val_loss: 0.0476 - val_acc: 0.9868\n",
      "Epoch 323/500\n",
      "1875/1875 [==============================] - 23s 12ms/step - loss: 0.0750 - acc: 0.9782 - val_loss: 0.0541 - val_acc: 0.9852\n",
      "Epoch 324/500\n",
      "1875/1875 [==============================] - 23s 12ms/step - loss: 0.0726 - acc: 0.9793 - val_loss: 0.0664 - val_acc: 0.9832\n",
      "Epoch 325/500\n",
      "1875/1875 [==============================] - 22s 12ms/step - loss: 0.0713 - acc: 0.9790 - val_loss: 0.0629 - val_acc: 0.9836\n",
      "Epoch 326/500\n",
      "1875/1875 [==============================] - 23s 12ms/step - loss: 0.0754 - acc: 0.9785 - val_loss: 0.0556 - val_acc: 0.9864\n",
      "Epoch 327/500\n",
      "1875/1875 [==============================] - 24s 13ms/step - loss: 0.0728 - acc: 0.9782 - val_loss: 0.0395 - val_acc: 0.9884\n",
      "Epoch 328/500\n",
      "1875/1875 [==============================] - 30s 16ms/step - loss: 0.0747 - acc: 0.9777 - val_loss: 0.0603 - val_acc: 0.9848\n",
      "Epoch 329/500\n",
      "1875/1875 [==============================] - 30s 16ms/step - loss: 0.0728 - acc: 0.9786 - val_loss: 0.0666 - val_acc: 0.9826\n",
      "Epoch 330/500\n",
      "1875/1875 [==============================] - 28s 15ms/step - loss: 0.0748 - acc: 0.9781 - val_loss: 0.0536 - val_acc: 0.9854\n",
      "Epoch 331/500\n",
      "1875/1875 [==============================] - 28s 15ms/step - loss: 0.0720 - acc: 0.9793 - val_loss: 0.0655 - val_acc: 0.9846\n",
      "Epoch 332/500\n",
      "1875/1875 [==============================] - 24s 13ms/step - loss: 0.0710 - acc: 0.9783 - val_loss: 0.0573 - val_acc: 0.9840\n",
      "Epoch 333/500\n",
      "1875/1875 [==============================] - 24s 13ms/step - loss: 0.0745 - acc: 0.9786 - val_loss: 0.0485 - val_acc: 0.9854\n",
      "Epoch 334/500\n",
      "1875/1875 [==============================] - 24s 13ms/step - loss: 0.0722 - acc: 0.9786 - val_loss: 0.0593 - val_acc: 0.9834\n",
      "Epoch 335/500\n",
      "1875/1875 [==============================] - 24s 13ms/step - loss: 0.0730 - acc: 0.9789 - val_loss: 0.0440 - val_acc: 0.9880\n",
      "Epoch 336/500\n",
      "1875/1875 [==============================] - 25s 13ms/step - loss: 0.0722 - acc: 0.9784 - val_loss: 0.0500 - val_acc: 0.9870\n",
      "Epoch 337/500\n",
      "1875/1875 [==============================] - 24s 13ms/step - loss: 0.0733 - acc: 0.9785 - val_loss: 0.0428 - val_acc: 0.9866\n",
      "Epoch 338/500\n",
      "1875/1875 [==============================] - 24s 13ms/step - loss: 0.0717 - acc: 0.9791 - val_loss: 0.0467 - val_acc: 0.9856\n",
      "Epoch 339/500\n",
      "1875/1875 [==============================] - 24s 13ms/step - loss: 0.0744 - acc: 0.9777 - val_loss: 0.0610 - val_acc: 0.9840\n",
      "Epoch 340/500\n",
      "1875/1875 [==============================] - 25s 13ms/step - loss: 0.0734 - acc: 0.9784 - val_loss: 0.0487 - val_acc: 0.9880\n",
      "Epoch 341/500\n",
      "1875/1875 [==============================] - 25s 13ms/step - loss: 0.0749 - acc: 0.9790 - val_loss: 0.0575 - val_acc: 0.9830\n",
      "Epoch 342/500\n",
      "1875/1875 [==============================] - 24s 13ms/step - loss: 0.0715 - acc: 0.9793 - val_loss: 0.0458 - val_acc: 0.9868\n",
      "Epoch 343/500\n",
      "1875/1875 [==============================] - 24s 13ms/step - loss: 0.0737 - acc: 0.9788 - val_loss: 0.0479 - val_acc: 0.9868\n",
      "Epoch 344/500\n",
      "1875/1875 [==============================] - 25s 13ms/step - loss: 0.0755 - acc: 0.9779 - val_loss: 0.0588 - val_acc: 0.9854\n",
      "Epoch 345/500\n",
      "1875/1875 [==============================] - 24s 13ms/step - loss: 0.0731 - acc: 0.9786 - val_loss: 0.0423 - val_acc: 0.9868\n",
      "Epoch 346/500\n",
      "1875/1875 [==============================] - 24s 13ms/step - loss: 0.0721 - acc: 0.9788 - val_loss: 0.0634 - val_acc: 0.9842\n",
      "Epoch 347/500\n",
      "1875/1875 [==============================] - 25s 13ms/step - loss: 0.0749 - acc: 0.9782 - val_loss: 0.0499 - val_acc: 0.9862\n",
      "Epoch 348/500\n",
      "1875/1875 [==============================] - 25s 14ms/step - loss: 0.0729 - acc: 0.9785 - val_loss: 0.0602 - val_acc: 0.9846\n",
      "Epoch 349/500\n",
      "1875/1875 [==============================] - 23s 12ms/step - loss: 0.0771 - acc: 0.9779 - val_loss: 0.0458 - val_acc: 0.9878\n",
      "Epoch 350/500\n",
      "1875/1875 [==============================] - 25s 13ms/step - loss: 0.0727 - acc: 0.9779 - val_loss: 0.0618 - val_acc: 0.9828\n",
      "Epoch 351/500\n",
      "1875/1875 [==============================] - 24s 13ms/step - loss: 0.0751 - acc: 0.9783 - val_loss: 0.0595 - val_acc: 0.9828\n",
      "Epoch 352/500\n",
      "1875/1875 [==============================] - 25s 13ms/step - loss: 0.0761 - acc: 0.9777 - val_loss: 0.0574 - val_acc: 0.9848\n",
      "Epoch 353/500\n",
      "1875/1875 [==============================] - 24s 13ms/step - loss: 0.0727 - acc: 0.9788 - val_loss: 0.0599 - val_acc: 0.9846\n",
      "Epoch 354/500\n",
      "1875/1875 [==============================] - 24s 13ms/step - loss: 0.0748 - acc: 0.9778 - val_loss: 0.0437 - val_acc: 0.9876\n",
      "Epoch 355/500\n"
     ]
    },
    {
     "name": "stdout",
     "output_type": "stream",
     "text": [
      "1875/1875 [==============================] - 22s 12ms/step - loss: 0.0739 - acc: 0.9777 - val_loss: 0.0375 - val_acc: 0.9894\n",
      "Epoch 356/500\n",
      "1875/1875 [==============================] - 22s 12ms/step - loss: 0.0747 - acc: 0.9782 - val_loss: 0.0487 - val_acc: 0.9860\n",
      "Epoch 357/500\n",
      "1875/1875 [==============================] - 22s 12ms/step - loss: 0.0748 - acc: 0.9778 - val_loss: 0.0572 - val_acc: 0.9830\n",
      "Epoch 358/500\n",
      "1875/1875 [==============================] - 22s 12ms/step - loss: 0.0750 - acc: 0.9786 - val_loss: 0.0560 - val_acc: 0.9876\n",
      "Epoch 359/500\n",
      "1875/1875 [==============================] - 25s 13ms/step - loss: 0.0761 - acc: 0.9779 - val_loss: 0.0514 - val_acc: 0.9854\n",
      "Epoch 360/500\n",
      "1875/1875 [==============================] - 25s 13ms/step - loss: 0.0761 - acc: 0.9780 - val_loss: 0.0489 - val_acc: 0.9848\n",
      "Epoch 361/500\n",
      "1875/1875 [==============================] - 24s 13ms/step - loss: 0.0774 - acc: 0.9773 - val_loss: 0.0669 - val_acc: 0.9838\n",
      "Epoch 362/500\n",
      "1875/1875 [==============================] - 25s 13ms/step - loss: 0.0756 - acc: 0.9775 - val_loss: 0.0649 - val_acc: 0.9822\n",
      "Epoch 363/500\n",
      "1875/1875 [==============================] - 23s 12ms/step - loss: 0.0730 - acc: 0.9784 - val_loss: 0.0539 - val_acc: 0.9846\n",
      "Epoch 364/500\n",
      "1875/1875 [==============================] - 23s 12ms/step - loss: 0.0754 - acc: 0.9784 - val_loss: 0.0538 - val_acc: 0.9870\n",
      "Epoch 365/500\n",
      "1875/1875 [==============================] - 24s 13ms/step - loss: 0.0745 - acc: 0.9780 - val_loss: 0.0410 - val_acc: 0.9882\n",
      "Epoch 366/500\n",
      "1875/1875 [==============================] - 23s 12ms/step - loss: 0.0743 - acc: 0.9776 - val_loss: 0.0565 - val_acc: 0.9860\n",
      "Epoch 367/500\n",
      "1875/1875 [==============================] - 23s 12ms/step - loss: 0.0752 - acc: 0.9778 - val_loss: 0.0492 - val_acc: 0.9862\n",
      "Epoch 368/500\n",
      "1875/1875 [==============================] - 24s 13ms/step - loss: 0.0741 - acc: 0.9787 - val_loss: 0.0605 - val_acc: 0.9824\n",
      "Epoch 369/500\n",
      "1875/1875 [==============================] - 23s 12ms/step - loss: 0.0745 - acc: 0.9782 - val_loss: 0.0518 - val_acc: 0.9854\n",
      "Epoch 370/500\n",
      "1875/1875 [==============================] - 24s 13ms/step - loss: 0.0753 - acc: 0.9780 - val_loss: 0.0669 - val_acc: 0.9832\n",
      "Epoch 371/500\n",
      "1875/1875 [==============================] - 24s 13ms/step - loss: 0.0724 - acc: 0.9793 - val_loss: 0.0520 - val_acc: 0.9862\n",
      "Epoch 372/500\n",
      "1875/1875 [==============================] - 24s 13ms/step - loss: 0.0756 - acc: 0.9777 - val_loss: 0.0540 - val_acc: 0.9852\n",
      "Epoch 373/500\n",
      "1875/1875 [==============================] - 24s 13ms/step - loss: 0.0749 - acc: 0.9782 - val_loss: 0.0678 - val_acc: 0.9824\n",
      "Epoch 374/500\n",
      "1875/1875 [==============================] - 23s 12ms/step - loss: 0.0763 - acc: 0.9775 - val_loss: 0.0503 - val_acc: 0.9870\n",
      "Epoch 375/500\n",
      "1875/1875 [==============================] - 24s 13ms/step - loss: 0.0769 - acc: 0.9773 - val_loss: 0.0394 - val_acc: 0.9892\n",
      "Epoch 376/500\n",
      "1875/1875 [==============================] - 24s 13ms/step - loss: 0.0749 - acc: 0.9780 - val_loss: 0.0533 - val_acc: 0.9870\n",
      "Epoch 377/500\n",
      "1875/1875 [==============================] - 23s 12ms/step - loss: 0.0764 - acc: 0.9780 - val_loss: 0.0756 - val_acc: 0.9812\n",
      "Epoch 378/500\n",
      "1875/1875 [==============================] - 23s 12ms/step - loss: 0.0727 - acc: 0.9784 - val_loss: 0.0495 - val_acc: 0.9870\n",
      "Epoch 379/500\n",
      "1875/1875 [==============================] - 24s 13ms/step - loss: 0.0767 - acc: 0.9780 - val_loss: 0.0502 - val_acc: 0.9860\n",
      "Epoch 380/500\n",
      "1875/1875 [==============================] - 23s 12ms/step - loss: 0.0770 - acc: 0.9774 - val_loss: 0.0606 - val_acc: 0.9830\n",
      "Epoch 381/500\n",
      "1875/1875 [==============================] - 25s 13ms/step - loss: 0.0727 - acc: 0.9783 - val_loss: 0.0559 - val_acc: 0.9850\n",
      "Epoch 382/500\n",
      "1875/1875 [==============================] - 23s 12ms/step - loss: 0.0746 - acc: 0.9782 - val_loss: 0.0662 - val_acc: 0.9836\n",
      "Epoch 383/500\n",
      "1875/1875 [==============================] - 26s 14ms/step - loss: 0.0733 - acc: 0.9785 - val_loss: 0.0435 - val_acc: 0.9870\n",
      "Epoch 384/500\n",
      "1875/1875 [==============================] - 25s 13ms/step - loss: 0.0764 - acc: 0.9780 - val_loss: 0.0493 - val_acc: 0.9862\n",
      "Epoch 385/500\n",
      "1875/1875 [==============================] - 26s 14ms/step - loss: 0.0736 - acc: 0.9787 - val_loss: 0.0442 - val_acc: 0.9862\n",
      "Epoch 386/500\n",
      "1875/1875 [==============================] - 24s 13ms/step - loss: 0.0775 - acc: 0.9773 - val_loss: 0.0481 - val_acc: 0.9872\n",
      "Epoch 387/500\n",
      "1875/1875 [==============================] - 24s 13ms/step - loss: 0.0756 - acc: 0.9780 - val_loss: 0.0486 - val_acc: 0.9862\n",
      "Epoch 388/500\n",
      "1875/1875 [==============================] - 26s 14ms/step - loss: 0.0760 - acc: 0.9771 - val_loss: 0.0633 - val_acc: 0.9848\n",
      "Epoch 389/500\n",
      "1875/1875 [==============================] - 24s 13ms/step - loss: 0.0773 - acc: 0.9779 - val_loss: 0.0448 - val_acc: 0.9872\n",
      "Epoch 390/500\n",
      "1875/1875 [==============================] - 24s 13ms/step - loss: 0.0762 - acc: 0.9780 - val_loss: 0.0935 - val_acc: 0.9760\n",
      "Epoch 391/500\n",
      "1875/1875 [==============================] - 24s 13ms/step - loss: 0.0742 - acc: 0.9780 - val_loss: 0.0953 - val_acc: 0.9764\n",
      "Epoch 392/500\n",
      "1875/1875 [==============================] - 25s 13ms/step - loss: 0.0773 - acc: 0.9770 - val_loss: 0.0529 - val_acc: 0.9840\n",
      "Epoch 393/500\n",
      "1875/1875 [==============================] - 24s 13ms/step - loss: 0.0764 - acc: 0.9786 - val_loss: 0.1153 - val_acc: 0.9720\n",
      "Epoch 394/500\n",
      "1875/1875 [==============================] - 25s 13ms/step - loss: 0.0767 - acc: 0.9781 - val_loss: 0.0449 - val_acc: 0.9866\n",
      "Epoch 395/500\n",
      "1875/1875 [==============================] - 25s 13ms/step - loss: 0.0785 - acc: 0.9772 - val_loss: 0.0444 - val_acc: 0.9878\n",
      "Epoch 396/500\n",
      "1875/1875 [==============================] - 24s 13ms/step - loss: 0.0764 - acc: 0.9777 - val_loss: 0.0616 - val_acc: 0.9820\n",
      "Epoch 397/500\n",
      "1875/1875 [==============================] - 25s 13ms/step - loss: 0.0754 - acc: 0.9776 - val_loss: 0.0495 - val_acc: 0.9870\n",
      "Epoch 398/500\n",
      "1875/1875 [==============================] - 24s 13ms/step - loss: 0.0776 - acc: 0.9774 - val_loss: 0.0610 - val_acc: 0.9828\n",
      "Epoch 399/500\n",
      "1875/1875 [==============================] - 24s 13ms/step - loss: 0.0760 - acc: 0.9783 - val_loss: 0.0525 - val_acc: 0.9856\n",
      "Epoch 400/500\n",
      "1875/1875 [==============================] - 24s 13ms/step - loss: 0.0740 - acc: 0.9782 - val_loss: 0.0520 - val_acc: 0.9860\n",
      "Epoch 401/500\n",
      "1875/1875 [==============================] - 23s 12ms/step - loss: 0.0761 - acc: 0.9782 - val_loss: 0.0595 - val_acc: 0.9854\n",
      "Epoch 402/500\n",
      "1875/1875 [==============================] - 24s 13ms/step - loss: 0.0766 - acc: 0.9777 - val_loss: 0.0631 - val_acc: 0.9846\n",
      "Epoch 403/500\n",
      "1875/1875 [==============================] - 24s 13ms/step - loss: 0.0765 - acc: 0.9777 - val_loss: 0.0646 - val_acc: 0.9828\n",
      "Epoch 404/500\n",
      "1875/1875 [==============================] - 25s 13ms/step - loss: 0.0814 - acc: 0.9769 - val_loss: 0.0524 - val_acc: 0.9846\n",
      "Epoch 405/500\n",
      "1875/1875 [==============================] - 25s 14ms/step - loss: 0.0794 - acc: 0.9772 - val_loss: 0.0548 - val_acc: 0.9838\n",
      "Epoch 406/500\n",
      "1875/1875 [==============================] - 25s 13ms/step - loss: 0.0768 - acc: 0.9779 - val_loss: 0.0528 - val_acc: 0.9862\n",
      "Epoch 407/500\n",
      "1875/1875 [==============================] - 25s 13ms/step - loss: 0.0770 - acc: 0.9778 - val_loss: 0.0801 - val_acc: 0.9772\n",
      "Epoch 408/500\n",
      "1875/1875 [==============================] - 24s 13ms/step - loss: 0.0759 - acc: 0.9780 - val_loss: 0.0538 - val_acc: 0.9854\n",
      "Epoch 409/500\n",
      "1875/1875 [==============================] - 24s 13ms/step - loss: 0.0760 - acc: 0.9778 - val_loss: 0.0763 - val_acc: 0.9808\n",
      "Epoch 410/500\n",
      "1875/1875 [==============================] - 27s 15ms/step - loss: 0.0733 - acc: 0.9792 - val_loss: 0.0438 - val_acc: 0.9876\n",
      "Epoch 411/500\n",
      "1875/1875 [==============================] - 25s 13ms/step - loss: 0.0770 - acc: 0.9773 - val_loss: 0.0517 - val_acc: 0.9850\n",
      "Epoch 412/500\n",
      "1875/1875 [==============================] - 24s 13ms/step - loss: 0.0772 - acc: 0.9773 - val_loss: 0.0553 - val_acc: 0.9842\n",
      "Epoch 413/500\n",
      "1875/1875 [==============================] - 24s 13ms/step - loss: 0.0768 - acc: 0.9782 - val_loss: 0.0632 - val_acc: 0.9836\n",
      "Epoch 414/500\n"
     ]
    },
    {
     "name": "stdout",
     "output_type": "stream",
     "text": [
      "1875/1875 [==============================] - 23s 12ms/step - loss: 0.0784 - acc: 0.9772 - val_loss: 0.0577 - val_acc: 0.9838\n",
      "Epoch 415/500\n",
      "1875/1875 [==============================] - 24s 13ms/step - loss: 0.0772 - acc: 0.9784 - val_loss: 0.0712 - val_acc: 0.9830\n",
      "Epoch 416/500\n",
      "1875/1875 [==============================] - 24s 13ms/step - loss: 0.0761 - acc: 0.9783 - val_loss: 0.0481 - val_acc: 0.9856\n",
      "Epoch 417/500\n",
      "1875/1875 [==============================] - 24s 13ms/step - loss: 0.0768 - acc: 0.9780 - val_loss: 0.0746 - val_acc: 0.9808\n",
      "Epoch 418/500\n",
      "1875/1875 [==============================] - 24s 13ms/step - loss: 0.0751 - acc: 0.9785 - val_loss: 0.0521 - val_acc: 0.9870\n",
      "Epoch 419/500\n",
      "1875/1875 [==============================] - 25s 14ms/step - loss: 0.0759 - acc: 0.9779 - val_loss: 0.0573 - val_acc: 0.9856\n",
      "Epoch 420/500\n",
      "1875/1875 [==============================] - 24s 13ms/step - loss: 0.0778 - acc: 0.9775 - val_loss: 0.0545 - val_acc: 0.9840\n",
      "Epoch 421/500\n",
      "1875/1875 [==============================] - 24s 13ms/step - loss: 0.0773 - acc: 0.9779 - val_loss: 0.0594 - val_acc: 0.9836\n",
      "Epoch 422/500\n",
      "1875/1875 [==============================] - 24s 13ms/step - loss: 0.0757 - acc: 0.9781 - val_loss: 0.0488 - val_acc: 0.9858\n",
      "Epoch 423/500\n",
      "1875/1875 [==============================] - 26s 14ms/step - loss: 0.0743 - acc: 0.9773 - val_loss: 0.0682 - val_acc: 0.9806\n",
      "Epoch 424/500\n",
      "1875/1875 [==============================] - 24s 13ms/step - loss: 0.0769 - acc: 0.9772 - val_loss: 0.0473 - val_acc: 0.9862\n",
      "Epoch 425/500\n",
      "1875/1875 [==============================] - 24s 13ms/step - loss: 0.0755 - acc: 0.9776 - val_loss: 0.0500 - val_acc: 0.9884\n",
      "Epoch 426/500\n",
      "1875/1875 [==============================] - 26s 14ms/step - loss: 0.0736 - acc: 0.9780 - val_loss: 0.0627 - val_acc: 0.9828\n",
      "Epoch 427/500\n",
      "1875/1875 [==============================] - 25s 13ms/step - loss: 0.0769 - acc: 0.9777 - val_loss: 0.0775 - val_acc: 0.9796\n",
      "Epoch 428/500\n",
      "1875/1875 [==============================] - 24s 13ms/step - loss: 0.0744 - acc: 0.9783 - val_loss: 0.0716 - val_acc: 0.9836\n",
      "Epoch 429/500\n",
      "1875/1875 [==============================] - 25s 13ms/step - loss: 0.0798 - acc: 0.9769 - val_loss: 0.0569 - val_acc: 0.9836\n",
      "Epoch 430/500\n",
      "1875/1875 [==============================] - 24s 13ms/step - loss: 0.0757 - acc: 0.9777 - val_loss: 0.0536 - val_acc: 0.9860\n",
      "Epoch 431/500\n",
      "1875/1875 [==============================] - 24s 13ms/step - loss: 0.0741 - acc: 0.9786 - val_loss: 0.0510 - val_acc: 0.9864\n",
      "Epoch 432/500\n",
      "1875/1875 [==============================] - 24s 13ms/step - loss: 0.0779 - acc: 0.9765 - val_loss: 0.0646 - val_acc: 0.9840\n",
      "Epoch 433/500\n",
      "1875/1875 [==============================] - 24s 13ms/step - loss: 0.0761 - acc: 0.9777 - val_loss: 0.0448 - val_acc: 0.9880\n",
      "Epoch 434/500\n",
      "1875/1875 [==============================] - 25s 13ms/step - loss: 0.0778 - acc: 0.9779 - val_loss: 0.0802 - val_acc: 0.9788\n",
      "Epoch 435/500\n",
      "1875/1875 [==============================] - 25s 14ms/step - loss: 0.0792 - acc: 0.9772 - val_loss: 0.0596 - val_acc: 0.9834\n",
      "Epoch 436/500\n",
      "1875/1875 [==============================] - 27s 14ms/step - loss: 0.0775 - acc: 0.9765 - val_loss: 0.0621 - val_acc: 0.9812\n",
      "Epoch 437/500\n",
      "1875/1875 [==============================] - 25s 13ms/step - loss: 0.0742 - acc: 0.9780 - val_loss: 0.0702 - val_acc: 0.9840\n",
      "Epoch 438/500\n",
      "1875/1875 [==============================] - 24s 13ms/step - loss: 0.0774 - acc: 0.9774 - val_loss: 0.0586 - val_acc: 0.9852\n",
      "Epoch 439/500\n",
      "1875/1875 [==============================] - 24s 13ms/step - loss: 0.0774 - acc: 0.9776 - val_loss: 0.0683 - val_acc: 0.9826\n",
      "Epoch 440/500\n",
      "1875/1875 [==============================] - 24s 13ms/step - loss: 0.0778 - acc: 0.9770 - val_loss: 0.0668 - val_acc: 0.9822\n",
      "Epoch 441/500\n",
      "1875/1875 [==============================] - 25s 13ms/step - loss: 0.0802 - acc: 0.9775 - val_loss: 0.0580 - val_acc: 0.9824\n",
      "Epoch 442/500\n",
      "1875/1875 [==============================] - 24s 13ms/step - loss: 0.0783 - acc: 0.9768 - val_loss: 0.0422 - val_acc: 0.9876\n",
      "Epoch 443/500\n",
      "1875/1875 [==============================] - 24s 13ms/step - loss: 0.0804 - acc: 0.9775 - val_loss: 0.0607 - val_acc: 0.9838\n",
      "Epoch 444/500\n",
      "1875/1875 [==============================] - 25s 13ms/step - loss: 0.0774 - acc: 0.9779 - val_loss: 0.0619 - val_acc: 0.9832\n",
      "Epoch 445/500\n",
      "1875/1875 [==============================] - 24s 13ms/step - loss: 0.0757 - acc: 0.9780 - val_loss: 0.0802 - val_acc: 0.9798\n",
      "Epoch 446/500\n",
      "1875/1875 [==============================] - 24s 13ms/step - loss: 0.0781 - acc: 0.9778 - val_loss: 0.0567 - val_acc: 0.9838\n",
      "Epoch 447/500\n",
      "1875/1875 [==============================] - 25s 13ms/step - loss: 0.0775 - acc: 0.9770 - val_loss: 0.0452 - val_acc: 0.9890\n",
      "Epoch 448/500\n",
      "1875/1875 [==============================] - 24s 13ms/step - loss: 0.0767 - acc: 0.9776 - val_loss: 0.0483 - val_acc: 0.9872\n",
      "Epoch 449/500\n",
      "1875/1875 [==============================] - 25s 13ms/step - loss: 0.0757 - acc: 0.9781 - val_loss: 0.0504 - val_acc: 0.9846\n",
      "Epoch 450/500\n",
      "1875/1875 [==============================] - 24s 13ms/step - loss: 0.0757 - acc: 0.9778 - val_loss: 0.0518 - val_acc: 0.9864\n",
      "Epoch 451/500\n",
      "1875/1875 [==============================] - 24s 13ms/step - loss: 0.0792 - acc: 0.9771 - val_loss: 0.0464 - val_acc: 0.9870\n",
      "Epoch 452/500\n",
      "1875/1875 [==============================] - 25s 13ms/step - loss: 0.0765 - acc: 0.9778 - val_loss: 0.0555 - val_acc: 0.9842\n",
      "Epoch 453/500\n",
      "1875/1875 [==============================] - 24s 13ms/step - loss: 0.0794 - acc: 0.9775 - val_loss: 0.0507 - val_acc: 0.9866\n",
      "Epoch 454/500\n",
      "1875/1875 [==============================] - 25s 13ms/step - loss: 0.0816 - acc: 0.9769 - val_loss: 0.0630 - val_acc: 0.9824\n",
      "Epoch 455/500\n",
      "1875/1875 [==============================] - 25s 13ms/step - loss: 0.0784 - acc: 0.9769 - val_loss: 0.0442 - val_acc: 0.9870\n",
      "Epoch 456/500\n",
      "1875/1875 [==============================] - 24s 13ms/step - loss: 0.0775 - acc: 0.9781 - val_loss: 0.0419 - val_acc: 0.9888\n",
      "Epoch 457/500\n",
      "1875/1875 [==============================] - 25s 13ms/step - loss: 0.0811 - acc: 0.9765 - val_loss: 0.0534 - val_acc: 0.9846\n",
      "Epoch 458/500\n",
      "1875/1875 [==============================] - 24s 13ms/step - loss: 0.0774 - acc: 0.9779 - val_loss: 0.0503 - val_acc: 0.9866\n",
      "Epoch 459/500\n",
      "1875/1875 [==============================] - 26s 14ms/step - loss: 0.0786 - acc: 0.9779 - val_loss: 0.0564 - val_acc: 0.9842\n",
      "Epoch 460/500\n",
      "1875/1875 [==============================] - 29s 15ms/step - loss: 0.0773 - acc: 0.9777 - val_loss: 0.0425 - val_acc: 0.9882\n",
      "Epoch 461/500\n",
      "1875/1875 [==============================] - 30s 16ms/step - loss: 0.0794 - acc: 0.9774 - val_loss: 0.0534 - val_acc: 0.9848\n",
      "Epoch 462/500\n",
      "1875/1875 [==============================] - 31s 17ms/step - loss: 0.0762 - acc: 0.9772 - val_loss: 0.0423 - val_acc: 0.9884\n",
      "Epoch 463/500\n",
      "1875/1875 [==============================] - 33s 18ms/step - loss: 0.0781 - acc: 0.9774 - val_loss: 0.0549 - val_acc: 0.9856\n",
      "Epoch 464/500\n",
      "1875/1875 [==============================] - 31s 16ms/step - loss: 0.0798 - acc: 0.9769 - val_loss: 0.0566 - val_acc: 0.9854\n",
      "Epoch 465/500\n",
      "1875/1875 [==============================] - 24s 13ms/step - loss: 0.0774 - acc: 0.9778 - val_loss: 0.0645 - val_acc: 0.9816\n",
      "Epoch 466/500\n",
      "1875/1875 [==============================] - 24s 13ms/step - loss: 0.0759 - acc: 0.9784 - val_loss: 0.0553 - val_acc: 0.9854\n",
      "Epoch 467/500\n",
      "1875/1875 [==============================] - 25s 13ms/step - loss: 0.0756 - acc: 0.9785 - val_loss: 0.0440 - val_acc: 0.9868\n",
      "Epoch 468/500\n",
      "1875/1875 [==============================] - 26s 14ms/step - loss: 0.0760 - acc: 0.9780 - val_loss: 0.0436 - val_acc: 0.9888\n",
      "Epoch 469/500\n",
      "1875/1875 [==============================] - 25s 13ms/step - loss: 0.0782 - acc: 0.9776 - val_loss: 0.0509 - val_acc: 0.9848\n",
      "Epoch 470/500\n",
      "1875/1875 [==============================] - 24s 13ms/step - loss: 0.0757 - acc: 0.9782 - val_loss: 0.0536 - val_acc: 0.9856\n",
      "Epoch 471/500\n",
      "1875/1875 [==============================] - 24s 13ms/step - loss: 0.0808 - acc: 0.9770 - val_loss: 0.0531 - val_acc: 0.9868\n",
      "Epoch 472/500\n",
      "1875/1875 [==============================] - 25s 13ms/step - loss: 0.0763 - acc: 0.9783 - val_loss: 0.1027 - val_acc: 0.9740\n",
      "Epoch 473/500\n"
     ]
    },
    {
     "name": "stdout",
     "output_type": "stream",
     "text": [
      "1875/1875 [==============================] - 1121s 598ms/step - loss: 0.0796 - acc: 0.9772 - val_loss: 0.0641 - val_acc: 0.9828\n",
      "Epoch 474/500\n",
      "1875/1875 [==============================] - 26s 14ms/step - loss: 0.0774 - acc: 0.9781 - val_loss: 0.0605 - val_acc: 0.9842\n",
      "Epoch 475/500\n",
      "1875/1875 [==============================] - 28s 15ms/step - loss: 0.0787 - acc: 0.9774 - val_loss: 0.0624 - val_acc: 0.9826\n",
      "Epoch 476/500\n",
      "1875/1875 [==============================] - 25s 13ms/step - loss: 0.0786 - acc: 0.9775 - val_loss: 0.0533 - val_acc: 0.9872\n",
      "Epoch 477/500\n",
      "1875/1875 [==============================] - 25s 13ms/step - loss: 0.0772 - acc: 0.9769 - val_loss: 0.0497 - val_acc: 0.9882\n",
      "Epoch 478/500\n",
      "1875/1875 [==============================] - 27s 14ms/step - loss: 0.0757 - acc: 0.9784 - val_loss: 0.0495 - val_acc: 0.9856\n",
      "Epoch 479/500\n",
      "1875/1875 [==============================] - 27s 14ms/step - loss: 0.0805 - acc: 0.9769 - val_loss: 0.0584 - val_acc: 0.9850\n",
      "Epoch 480/500\n",
      "1875/1875 [==============================] - 27s 14ms/step - loss: 0.0779 - acc: 0.9775 - val_loss: 0.0531 - val_acc: 0.9864\n",
      "Epoch 481/500\n",
      "1875/1875 [==============================] - 27s 14ms/step - loss: 0.0781 - acc: 0.9779 - val_loss: 0.0637 - val_acc: 0.9854\n",
      "Epoch 482/500\n",
      "1875/1875 [==============================] - 26s 14ms/step - loss: 0.0791 - acc: 0.9768 - val_loss: 0.0720 - val_acc: 0.9824\n",
      "Epoch 483/500\n",
      "1875/1875 [==============================] - 26s 14ms/step - loss: 0.0812 - acc: 0.9776 - val_loss: 0.0574 - val_acc: 0.9856\n",
      "Epoch 484/500\n",
      "1875/1875 [==============================] - 24s 13ms/step - loss: 0.0786 - acc: 0.9775 - val_loss: 0.0578 - val_acc: 0.9856\n",
      "Epoch 485/500\n",
      "1875/1875 [==============================] - 24s 13ms/step - loss: 0.0805 - acc: 0.9767 - val_loss: 0.0565 - val_acc: 0.9852\n",
      "Epoch 486/500\n",
      "1875/1875 [==============================] - 25s 13ms/step - loss: 0.0827 - acc: 0.9766 - val_loss: 0.0664 - val_acc: 0.9836\n",
      "Epoch 487/500\n",
      "1875/1875 [==============================] - 25s 13ms/step - loss: 0.0769 - acc: 0.9773 - val_loss: 0.0507 - val_acc: 0.9864\n",
      "Epoch 488/500\n",
      "1875/1875 [==============================] - 27s 14ms/step - loss: 0.0783 - acc: 0.9774 - val_loss: 0.0547 - val_acc: 0.9862\n",
      "Epoch 489/500\n",
      "1875/1875 [==============================] - 26s 14ms/step - loss: 0.0796 - acc: 0.9768 - val_loss: 0.0501 - val_acc: 0.9872\n",
      "Epoch 490/500\n",
      "1875/1875 [==============================] - 26s 14ms/step - loss: 0.0791 - acc: 0.9772 - val_loss: 0.0494 - val_acc: 0.9876\n",
      "Epoch 491/500\n",
      "1875/1875 [==============================] - 25s 13ms/step - loss: 0.0796 - acc: 0.9768 - val_loss: 0.0583 - val_acc: 0.9856\n",
      "Epoch 492/500\n",
      "1875/1875 [==============================] - 24s 13ms/step - loss: 0.0783 - acc: 0.9776 - val_loss: 0.0708 - val_acc: 0.9790\n",
      "Epoch 493/500\n",
      "1875/1875 [==============================] - 24s 13ms/step - loss: 0.0789 - acc: 0.9773 - val_loss: 0.0496 - val_acc: 0.9842\n",
      "Epoch 494/500\n",
      "1875/1875 [==============================] - 37s 20ms/step - loss: 0.0785 - acc: 0.9770 - val_loss: 0.0980 - val_acc: 0.9784\n",
      "Epoch 495/500\n",
      "1875/1875 [==============================] - 37s 20ms/step - loss: 0.0789 - acc: 0.9770 - val_loss: 0.0515 - val_acc: 0.9868\n",
      "Epoch 496/500\n",
      "1875/1875 [==============================] - 33s 18ms/step - loss: 0.0788 - acc: 0.9776 - val_loss: 0.0547 - val_acc: 0.9844\n",
      "Epoch 497/500\n",
      "1875/1875 [==============================] - 36s 19ms/step - loss: 0.0792 - acc: 0.9770 - val_loss: 0.0667 - val_acc: 0.9824\n",
      "Epoch 498/500\n",
      "1875/1875 [==============================] - 19s 10ms/step - loss: 0.0775 - acc: 0.9781 - val_loss: 0.0636 - val_acc: 0.9842\n",
      "Epoch 499/500\n",
      "1875/1875 [==============================] - 46s 25ms/step - loss: 0.0812 - acc: 0.9772 - val_loss: 0.0977 - val_acc: 0.9776\n",
      "Epoch 500/500\n",
      "1875/1875 [==============================] - 32s 17ms/step - loss: 0.0802 - acc: 0.9771 - val_loss: 0.0535 - val_acc: 0.9848\n"
     ]
    }
   ],
   "source": [
    "# fits the model on batches with real-time data augmentation:\n",
    "# the accuracy continues to (slowly) rise, due to the augmentation\n",
    "history = cnnmodel.fit_generator(datagen.flow(x_train, y_train, batch_size=batch_size), \n",
    "                                 epochs=10*epochs,\n",
    "                                 verbose=1,\n",
    "                                 validation_data=(x_test, y_test))"
   ]
  },
  {
   "cell_type": "code",
   "execution_count": 53,
   "metadata": {},
   "outputs": [
    {
     "data": {
      "image/png": "[encoded data removed]",
      "text/plain": [
       "<Figure size 1080x360 with 2 Axes>"
      ]
     },
     "metadata": {
      "needs_background": "light"
     },
     "output_type": "display_data"
    }
   ],
   "source": [
    "histplot(history)"
   ]
  },
  {
   "cell_type": "code",
   "execution_count": null,
   "metadata": {},
   "outputs": [],
   "source": []
  }
 ],
 "metadata": {
  "kernelspec": {
   "display_name": "Python 3",
   "language": "python",
   "name": "python3"
  },
  "language_info": {
   "codemirror_mode": {
    "name": "ipython",
    "version": 3
   },
   "file_extension": ".py",
   "mimetype": "text/x-python",
   "name": "python",
   "nbconvert_exporter": "python",
   "pygments_lexer": "ipython3",
   "version": "3.7.4"
  }
 },
 "nbformat": 4,
 "nbformat_minor": 2
}
